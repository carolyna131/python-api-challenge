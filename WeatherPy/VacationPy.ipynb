{
 "cells": [
  {
   "cell_type": "markdown",
   "metadata": {},
   "source": [
    "# VacationPy\n",
    "----\n",
    "\n",
    "#### Note\n",
    "* Keep an eye on your API usage. Use https://developers.google.com/maps/reporting/gmp-reporting as reference for how to monitor your usage and billing.\n",
    "\n",
    "* Instructions have been included for each segment. You do not have to follow them exactly, but they are included to help you think through the steps."
   ]
  },
  {
   "cell_type": "code",
   "execution_count": 1,
   "metadata": {},
   "outputs": [],
   "source": [
    "# Dependencies and Setup\n",
    "import matplotlib.pyplot as plt\n",
    "import pandas as pd\n",
    "import numpy as np\n",
    "import requests\n",
    "import gmaps\n",
    "import os\n",
    "\n",
    "# Import API key\n",
    "from api_keys import g_key"
   ]
  },
  {
   "cell_type": "markdown",
   "metadata": {},
   "source": [
    "### Store Part I results into DataFrame\n",
    "* Load the csv exported in Part I to a DataFrame"
   ]
  },
  {
   "cell_type": "code",
   "execution_count": 2,
   "metadata": {},
   "outputs": [
    {
     "output_type": "execute_result",
     "data": {
      "text/plain": [
       "   City_ID            City    Lat     Lng  Max Temp  Humidity  Cloudiness  \\\n",
       "0        0            kaeo -35.10  173.78     54.55        82          89   \n",
       "1        1      maningrida -12.07  134.27     86.32        58          65   \n",
       "2        2      borogontsy  62.67  131.17     22.78        91          45   \n",
       "3        3  saint-philippe -21.36   55.77     80.01        57          26   \n",
       "4        4       busselton -33.65  115.33     70.00        33          38   \n",
       "\n",
       "   Wind Speed Country        Date  \n",
       "0        3.56      NZ  1602824526  \n",
       "1       13.35      AU  1602824526  \n",
       "2        5.97      RU  1602824526  \n",
       "3        5.82      RE  1602824527  \n",
       "4        4.97      AU  1602824527  "
      ],
      "text/html": "<div>\n<style scoped>\n    .dataframe tbody tr th:only-of-type {\n        vertical-align: middle;\n    }\n\n    .dataframe tbody tr th {\n        vertical-align: top;\n    }\n\n    .dataframe thead th {\n        text-align: right;\n    }\n</style>\n<table border=\"1\" class=\"dataframe\">\n  <thead>\n    <tr style=\"text-align: right;\">\n      <th></th>\n      <th>City_ID</th>\n      <th>City</th>\n      <th>Lat</th>\n      <th>Lng</th>\n      <th>Max Temp</th>\n      <th>Humidity</th>\n      <th>Cloudiness</th>\n      <th>Wind Speed</th>\n      <th>Country</th>\n      <th>Date</th>\n    </tr>\n  </thead>\n  <tbody>\n    <tr>\n      <th>0</th>\n      <td>0</td>\n      <td>kaeo</td>\n      <td>-35.10</td>\n      <td>173.78</td>\n      <td>54.55</td>\n      <td>82</td>\n      <td>89</td>\n      <td>3.56</td>\n      <td>NZ</td>\n      <td>1602824526</td>\n    </tr>\n    <tr>\n      <th>1</th>\n      <td>1</td>\n      <td>maningrida</td>\n      <td>-12.07</td>\n      <td>134.27</td>\n      <td>86.32</td>\n      <td>58</td>\n      <td>65</td>\n      <td>13.35</td>\n      <td>AU</td>\n      <td>1602824526</td>\n    </tr>\n    <tr>\n      <th>2</th>\n      <td>2</td>\n      <td>borogontsy</td>\n      <td>62.67</td>\n      <td>131.17</td>\n      <td>22.78</td>\n      <td>91</td>\n      <td>45</td>\n      <td>5.97</td>\n      <td>RU</td>\n      <td>1602824526</td>\n    </tr>\n    <tr>\n      <th>3</th>\n      <td>3</td>\n      <td>saint-philippe</td>\n      <td>-21.36</td>\n      <td>55.77</td>\n      <td>80.01</td>\n      <td>57</td>\n      <td>26</td>\n      <td>5.82</td>\n      <td>RE</td>\n      <td>1602824527</td>\n    </tr>\n    <tr>\n      <th>4</th>\n      <td>4</td>\n      <td>busselton</td>\n      <td>-33.65</td>\n      <td>115.33</td>\n      <td>70.00</td>\n      <td>33</td>\n      <td>38</td>\n      <td>4.97</td>\n      <td>AU</td>\n      <td>1602824527</td>\n    </tr>\n  </tbody>\n</table>\n</div>"
     },
     "metadata": {},
     "execution_count": 2
    }
   ],
   "source": [
    "# read the cities.csv to create dataframe, previous cells are not needed to be executed as long as cities.csv was created\n",
    "cities_data = pd.read_csv(\"output_data/cities.csv\", encoding=\"utf-8\")\n",
    "cities_data.head()"
   ]
  },
  {
   "cell_type": "markdown",
   "metadata": {},
   "source": [
    "### Humidity Heatmap\n",
    "* Configure gmaps.\n",
    "* Use the Lat and Lng as locations and Humidity as the weight.\n",
    "* Add Heatmap layer to map."
   ]
  },
  {
   "cell_type": "code",
   "execution_count": 3,
   "metadata": {},
   "outputs": [
    {
     "output_type": "display_data",
     "data": {
      "text/plain": "Figure(layout=FigureLayout(border='1px solid black', height='600px', padding='1px', width='1000px'))",
      "application/vnd.jupyter.widget-view+json": {
       "version_major": 2,
       "version_minor": 0,
       "model_id": "37991e1712924cb1b23fb336c7f5797b"
      }
     },
     "metadata": {}
    }
   ],
   "source": [
    "### Humidity Heatmap\n",
    "gmaps.configure(api_key = g_key)\n",
    "fig=gmaps.figure()\n",
    "\n",
    "figure_layout = {'width' : '1000px', 'height' : '600px', 'border' : '1px solid black', 'padding' : '1px' }\n",
    "locations = cities_data[['Lat','Lng']]\n",
    "weights = cities_data['Humidity']\n",
    "center_coordinates = (30.3333,31.2333)\n",
    "fig = gmaps.figure(center = center_coordinates, map_type = \"SATELLITE\", zoom_level = 1.8, layout=figure_layout)\n",
    "\n",
    "\n",
    "\n",
    "heatmap_layer = gmaps.heatmap_layer(locations,weights = weights, dissipating=False, max_intensity = 100, point_radius = 3)\n",
    "\n",
    "fig.add_layer(heatmap_layer)\n",
    "fig"
   ]
  },
  {
   "cell_type": "markdown",
   "metadata": {},
   "source": [
    "### Create new DataFrame fitting weather criteria\n",
    "* Narrow down the cities to fit weather conditions.\n",
    "* Drop any rows will null values."
   ]
  },
  {
   "cell_type": "code",
   "execution_count": 4,
   "metadata": {},
   "outputs": [
    {
     "output_type": "execute_result",
     "data": {
      "text/plain": [
       "   City_ID         City    Lat     Lng  Max Temp  Humidity  Cloudiness  \\\n",
       "0       20  san quintin  30.48 -115.95     71.64        60           0   \n",
       "1       33     tucupita   9.06  -62.05     73.81        95           0   \n",
       "2      261        kutum  14.20   24.67     74.39        20           0   \n",
       "3      284       hwange -18.37   26.50     74.30        49           0   \n",
       "4      299      brumado -14.20  -41.67     72.70        64           0   \n",
       "\n",
       "   Wind Speed Country        Date  \n",
       "0        3.36      MX  1602824530  \n",
       "1        2.68      VE  1602824533  \n",
       "2        8.90      SD  1602824588  \n",
       "3        5.50      ZW  1602824593  \n",
       "4        5.08      BR  1602824596  "
      ],
      "text/html": "<div>\n<style scoped>\n    .dataframe tbody tr th:only-of-type {\n        vertical-align: middle;\n    }\n\n    .dataframe tbody tr th {\n        vertical-align: top;\n    }\n\n    .dataframe thead th {\n        text-align: right;\n    }\n</style>\n<table border=\"1\" class=\"dataframe\">\n  <thead>\n    <tr style=\"text-align: right;\">\n      <th></th>\n      <th>City_ID</th>\n      <th>City</th>\n      <th>Lat</th>\n      <th>Lng</th>\n      <th>Max Temp</th>\n      <th>Humidity</th>\n      <th>Cloudiness</th>\n      <th>Wind Speed</th>\n      <th>Country</th>\n      <th>Date</th>\n    </tr>\n  </thead>\n  <tbody>\n    <tr>\n      <th>0</th>\n      <td>20</td>\n      <td>san quintin</td>\n      <td>30.48</td>\n      <td>-115.95</td>\n      <td>71.64</td>\n      <td>60</td>\n      <td>0</td>\n      <td>3.36</td>\n      <td>MX</td>\n      <td>1602824530</td>\n    </tr>\n    <tr>\n      <th>1</th>\n      <td>33</td>\n      <td>tucupita</td>\n      <td>9.06</td>\n      <td>-62.05</td>\n      <td>73.81</td>\n      <td>95</td>\n      <td>0</td>\n      <td>2.68</td>\n      <td>VE</td>\n      <td>1602824533</td>\n    </tr>\n    <tr>\n      <th>2</th>\n      <td>261</td>\n      <td>kutum</td>\n      <td>14.20</td>\n      <td>24.67</td>\n      <td>74.39</td>\n      <td>20</td>\n      <td>0</td>\n      <td>8.90</td>\n      <td>SD</td>\n      <td>1602824588</td>\n    </tr>\n    <tr>\n      <th>3</th>\n      <td>284</td>\n      <td>hwange</td>\n      <td>-18.37</td>\n      <td>26.50</td>\n      <td>74.30</td>\n      <td>49</td>\n      <td>0</td>\n      <td>5.50</td>\n      <td>ZW</td>\n      <td>1602824593</td>\n    </tr>\n    <tr>\n      <th>4</th>\n      <td>299</td>\n      <td>brumado</td>\n      <td>-14.20</td>\n      <td>-41.67</td>\n      <td>72.70</td>\n      <td>64</td>\n      <td>0</td>\n      <td>5.08</td>\n      <td>BR</td>\n      <td>1602824596</td>\n    </tr>\n  </tbody>\n</table>\n</div>"
     },
     "metadata": {},
     "execution_count": 4
    }
   ],
   "source": [
    "clean_cities_data = cities_data.loc[(cities_data[\"Max Temp\"] > 70) &\n",
    "                                          (cities_data[\"Max Temp\"] < 80) &\n",
    "                                          (cities_data[\"Wind Speed\"] < 10) &\n",
    "                                          (cities_data[\"Cloudiness\"] == 0)\n",
    "                                          , :]\n",
    "clean_cities_data = clean_cities_data.dropna(how='any')\n",
    "clean_cities_data.reset_index(inplace=True)\n",
    "del clean_cities_data['index']\n",
    "\n",
    "# Display to output\n",
    "clean_cities_data.head()"
   ]
  },
  {
   "cell_type": "code",
   "execution_count": 5,
   "metadata": {},
   "outputs": [],
   "source": [
    "hotel_df = clean_cities_data"
   ]
  },
  {
   "cell_type": "markdown",
   "metadata": {},
   "source": [
    "### Hotel Map\n",
    "* Store into variable named `hotel_df`.\n",
    "* Add a \"Hotel Name\" column to the DataFrame.\n",
    "* Set parameters to search for hotels with 5000 meters.\n",
    "* Hit the Google Places API for each city's coordinates.\n",
    "* Store the first Hotel result into the DataFrame.\n",
    "* Plot markers on top of the heatmap."
   ]
  },
  {
   "cell_type": "code",
   "execution_count": 6,
   "metadata": {},
   "outputs": [
    {
     "output_type": "execute_result",
     "data": {
      "text/plain": [
       "   City_ID         City    Lat     Lng  Max Temp  Humidity  Cloudiness  \\\n",
       "0       20  san quintin  30.48 -115.95     71.64        60           0   \n",
       "1       33     tucupita   9.06  -62.05     73.81        95           0   \n",
       "2      261        kutum  14.20   24.67     74.39        20           0   \n",
       "3      284       hwange -18.37   26.50     74.30        49           0   \n",
       "4      299      brumado -14.20  -41.67     72.70        64           0   \n",
       "\n",
       "   Wind Speed Country        Date Hotel Name Hotel Address  \n",
       "0        3.36      MX  1602824530                           \n",
       "1        2.68      VE  1602824533                           \n",
       "2        8.90      SD  1602824588                           \n",
       "3        5.50      ZW  1602824593                           \n",
       "4        5.08      BR  1602824596                           "
      ],
      "text/html": "<div>\n<style scoped>\n    .dataframe tbody tr th:only-of-type {\n        vertical-align: middle;\n    }\n\n    .dataframe tbody tr th {\n        vertical-align: top;\n    }\n\n    .dataframe thead th {\n        text-align: right;\n    }\n</style>\n<table border=\"1\" class=\"dataframe\">\n  <thead>\n    <tr style=\"text-align: right;\">\n      <th></th>\n      <th>City_ID</th>\n      <th>City</th>\n      <th>Lat</th>\n      <th>Lng</th>\n      <th>Max Temp</th>\n      <th>Humidity</th>\n      <th>Cloudiness</th>\n      <th>Wind Speed</th>\n      <th>Country</th>\n      <th>Date</th>\n      <th>Hotel Name</th>\n      <th>Hotel Address</th>\n    </tr>\n  </thead>\n  <tbody>\n    <tr>\n      <th>0</th>\n      <td>20</td>\n      <td>san quintin</td>\n      <td>30.48</td>\n      <td>-115.95</td>\n      <td>71.64</td>\n      <td>60</td>\n      <td>0</td>\n      <td>3.36</td>\n      <td>MX</td>\n      <td>1602824530</td>\n      <td></td>\n      <td></td>\n    </tr>\n    <tr>\n      <th>1</th>\n      <td>33</td>\n      <td>tucupita</td>\n      <td>9.06</td>\n      <td>-62.05</td>\n      <td>73.81</td>\n      <td>95</td>\n      <td>0</td>\n      <td>2.68</td>\n      <td>VE</td>\n      <td>1602824533</td>\n      <td></td>\n      <td></td>\n    </tr>\n    <tr>\n      <th>2</th>\n      <td>261</td>\n      <td>kutum</td>\n      <td>14.20</td>\n      <td>24.67</td>\n      <td>74.39</td>\n      <td>20</td>\n      <td>0</td>\n      <td>8.90</td>\n      <td>SD</td>\n      <td>1602824588</td>\n      <td></td>\n      <td></td>\n    </tr>\n    <tr>\n      <th>3</th>\n      <td>284</td>\n      <td>hwange</td>\n      <td>-18.37</td>\n      <td>26.50</td>\n      <td>74.30</td>\n      <td>49</td>\n      <td>0</td>\n      <td>5.50</td>\n      <td>ZW</td>\n      <td>1602824593</td>\n      <td></td>\n      <td></td>\n    </tr>\n    <tr>\n      <th>4</th>\n      <td>299</td>\n      <td>brumado</td>\n      <td>-14.20</td>\n      <td>-41.67</td>\n      <td>72.70</td>\n      <td>64</td>\n      <td>0</td>\n      <td>5.08</td>\n      <td>BR</td>\n      <td>1602824596</td>\n      <td></td>\n      <td></td>\n    </tr>\n  </tbody>\n</table>\n</div>"
     },
     "metadata": {},
     "execution_count": 6
    }
   ],
   "source": [
    "hotel_df[\"Hotel Name\"] = \"\"\n",
    "hotel_df[\"Hotel Address\"] = \"\"\n",
    "hotel_df.head()"
   ]
  },
  {
   "cell_type": "code",
   "execution_count": 7,
   "metadata": {},
   "outputs": [
    {
     "output_type": "stream",
     "name": "stdout",
     "text": [
      "Missing field/result... skipping.\n"
     ]
    }
   ],
   "source": [
    "#Set parameters to search for hotels with 5000 meters.\n",
    "target_radius = 5000\n",
    "target_type = 'lodging'\n",
    "\n",
    "base_url = \"https://maps.googleapis.com/maps/api/place/nearbysearch/json\"\n",
    "\n",
    "for i in hotel_df.index:\n",
    "    target_coordinates = hotel_df['Lat'][i].astype(str) + \",\" + hotel_df['Lng'][i].astype(str)\n",
    "\n",
    "\n",
    "\n",
    "    params = {\n",
    "      \"location\": target_coordinates,\n",
    "      \"radius\": target_radius,\n",
    "      \"type\": target_type,\n",
    "      \"key\": g_key\n",
    "    }\n",
    "\n",
    "\n",
    "    response = requests.get(base_url, params=params)\n",
    "    locations = response.json()\n",
    "\n",
    "    # since some data may be missing we incorporate a try-except to skip any that are missing a data point.\n",
    "    try:\n",
    "        hotel_df['Hotel Name'][i] = locations[\"results\"][0][\"name\"]\n",
    "        \n",
    "    except (KeyError, IndexError):\n",
    "        print(\"Missing field/result... skipping.\")"
   ]
  },
  {
   "cell_type": "code",
   "execution_count": 8,
   "metadata": {},
   "outputs": [
    {
     "output_type": "execute_result",
     "data": {
      "text/plain": [
       "    City_ID         City    Lat     Lng  Max Temp  Humidity  Cloudiness  \\\n",
       "0        20  san quintin  30.48 -115.95     71.64        60           0   \n",
       "1        33     tucupita   9.06  -62.05     73.81        95           0   \n",
       "2       261        kutum  14.20   24.67     74.39        20           0   \n",
       "3       284       hwange -18.37   26.50     74.30        49           0   \n",
       "4       299      brumado -14.20  -41.67     72.70        64           0   \n",
       "5       370    abu kamal  34.45   40.92     70.59        51           0   \n",
       "6       397      xai-xai -25.05   33.64     70.57        69           0   \n",
       "7       406    cupertino  37.32 -122.03     77.00        32           0   \n",
       "8       414      prainha  -1.80  -53.48     77.13        77           0   \n",
       "9       430        jumla  29.27   82.18     71.29        26           0   \n",
       "10      466    port said  31.26   32.28     75.20        78           0   \n",
       "11      471  grand gaube -20.01   57.66     79.00        64           0   \n",
       "12      561        dunda  -8.12   34.25     71.46        56           0   \n",
       "\n",
       "    Wind Speed Country        Date                                Hotel Name  \\\n",
       "0         3.36      MX  1602824530                            Old Mill Hotel   \n",
       "1         2.68      VE  1602824533                Hotel Tucupita Su​ite C.A.   \n",
       "2         8.90      SD  1602824588                       Dibbo areaمنطقة دبو   \n",
       "3         5.50      ZW  1602824593               Hwange Colliery Guest House   \n",
       "4         5.08      BR  1602824596                          Hotel São Lázaro   \n",
       "5         8.75      SY  1602824612                              محطة التلفاز   \n",
       "6         5.21      MZ  1602824617                            Platinum Hotel   \n",
       "7         1.01      US  1602824619  Courtyard by Marriott San Jose Cupertino   \n",
       "8         3.89      BR  1602824620                            Hotel Brasília   \n",
       "9         4.90      NP  1602824583                 Hotel Sundar Rara Karnali   \n",
       "10        8.05      EG  1602824631                              Aracan Hotel   \n",
       "11        7.00      MU  1602824632      Veranda Paul et Virginie Hotel & Spa   \n",
       "12        5.66      TZ  1602824651                                             \n",
       "\n",
       "   Hotel Address  \n",
       "0                 \n",
       "1                 \n",
       "2                 \n",
       "3                 \n",
       "4                 \n",
       "5                 \n",
       "6                 \n",
       "7                 \n",
       "8                 \n",
       "9                 \n",
       "10                \n",
       "11                \n",
       "12                "
      ],
      "text/html": "<div>\n<style scoped>\n    .dataframe tbody tr th:only-of-type {\n        vertical-align: middle;\n    }\n\n    .dataframe tbody tr th {\n        vertical-align: top;\n    }\n\n    .dataframe thead th {\n        text-align: right;\n    }\n</style>\n<table border=\"1\" class=\"dataframe\">\n  <thead>\n    <tr style=\"text-align: right;\">\n      <th></th>\n      <th>City_ID</th>\n      <th>City</th>\n      <th>Lat</th>\n      <th>Lng</th>\n      <th>Max Temp</th>\n      <th>Humidity</th>\n      <th>Cloudiness</th>\n      <th>Wind Speed</th>\n      <th>Country</th>\n      <th>Date</th>\n      <th>Hotel Name</th>\n      <th>Hotel Address</th>\n    </tr>\n  </thead>\n  <tbody>\n    <tr>\n      <th>0</th>\n      <td>20</td>\n      <td>san quintin</td>\n      <td>30.48</td>\n      <td>-115.95</td>\n      <td>71.64</td>\n      <td>60</td>\n      <td>0</td>\n      <td>3.36</td>\n      <td>MX</td>\n      <td>1602824530</td>\n      <td>Old Mill Hotel</td>\n      <td></td>\n    </tr>\n    <tr>\n      <th>1</th>\n      <td>33</td>\n      <td>tucupita</td>\n      <td>9.06</td>\n      <td>-62.05</td>\n      <td>73.81</td>\n      <td>95</td>\n      <td>0</td>\n      <td>2.68</td>\n      <td>VE</td>\n      <td>1602824533</td>\n      <td>Hotel Tucupita Su​ite C.A.</td>\n      <td></td>\n    </tr>\n    <tr>\n      <th>2</th>\n      <td>261</td>\n      <td>kutum</td>\n      <td>14.20</td>\n      <td>24.67</td>\n      <td>74.39</td>\n      <td>20</td>\n      <td>0</td>\n      <td>8.90</td>\n      <td>SD</td>\n      <td>1602824588</td>\n      <td>Dibbo areaمنطقة دبو</td>\n      <td></td>\n    </tr>\n    <tr>\n      <th>3</th>\n      <td>284</td>\n      <td>hwange</td>\n      <td>-18.37</td>\n      <td>26.50</td>\n      <td>74.30</td>\n      <td>49</td>\n      <td>0</td>\n      <td>5.50</td>\n      <td>ZW</td>\n      <td>1602824593</td>\n      <td>Hwange Colliery Guest House</td>\n      <td></td>\n    </tr>\n    <tr>\n      <th>4</th>\n      <td>299</td>\n      <td>brumado</td>\n      <td>-14.20</td>\n      <td>-41.67</td>\n      <td>72.70</td>\n      <td>64</td>\n      <td>0</td>\n      <td>5.08</td>\n      <td>BR</td>\n      <td>1602824596</td>\n      <td>Hotel São Lázaro</td>\n      <td></td>\n    </tr>\n    <tr>\n      <th>5</th>\n      <td>370</td>\n      <td>abu kamal</td>\n      <td>34.45</td>\n      <td>40.92</td>\n      <td>70.59</td>\n      <td>51</td>\n      <td>0</td>\n      <td>8.75</td>\n      <td>SY</td>\n      <td>1602824612</td>\n      <td>محطة التلفاز</td>\n      <td></td>\n    </tr>\n    <tr>\n      <th>6</th>\n      <td>397</td>\n      <td>xai-xai</td>\n      <td>-25.05</td>\n      <td>33.64</td>\n      <td>70.57</td>\n      <td>69</td>\n      <td>0</td>\n      <td>5.21</td>\n      <td>MZ</td>\n      <td>1602824617</td>\n      <td>Platinum Hotel</td>\n      <td></td>\n    </tr>\n    <tr>\n      <th>7</th>\n      <td>406</td>\n      <td>cupertino</td>\n      <td>37.32</td>\n      <td>-122.03</td>\n      <td>77.00</td>\n      <td>32</td>\n      <td>0</td>\n      <td>1.01</td>\n      <td>US</td>\n      <td>1602824619</td>\n      <td>Courtyard by Marriott San Jose Cupertino</td>\n      <td></td>\n    </tr>\n    <tr>\n      <th>8</th>\n      <td>414</td>\n      <td>prainha</td>\n      <td>-1.80</td>\n      <td>-53.48</td>\n      <td>77.13</td>\n      <td>77</td>\n      <td>0</td>\n      <td>3.89</td>\n      <td>BR</td>\n      <td>1602824620</td>\n      <td>Hotel Brasília</td>\n      <td></td>\n    </tr>\n    <tr>\n      <th>9</th>\n      <td>430</td>\n      <td>jumla</td>\n      <td>29.27</td>\n      <td>82.18</td>\n      <td>71.29</td>\n      <td>26</td>\n      <td>0</td>\n      <td>4.90</td>\n      <td>NP</td>\n      <td>1602824583</td>\n      <td>Hotel Sundar Rara Karnali</td>\n      <td></td>\n    </tr>\n    <tr>\n      <th>10</th>\n      <td>466</td>\n      <td>port said</td>\n      <td>31.26</td>\n      <td>32.28</td>\n      <td>75.20</td>\n      <td>78</td>\n      <td>0</td>\n      <td>8.05</td>\n      <td>EG</td>\n      <td>1602824631</td>\n      <td>Aracan Hotel</td>\n      <td></td>\n    </tr>\n    <tr>\n      <th>11</th>\n      <td>471</td>\n      <td>grand gaube</td>\n      <td>-20.01</td>\n      <td>57.66</td>\n      <td>79.00</td>\n      <td>64</td>\n      <td>0</td>\n      <td>7.00</td>\n      <td>MU</td>\n      <td>1602824632</td>\n      <td>Veranda Paul et Virginie Hotel &amp; Spa</td>\n      <td></td>\n    </tr>\n    <tr>\n      <th>12</th>\n      <td>561</td>\n      <td>dunda</td>\n      <td>-8.12</td>\n      <td>34.25</td>\n      <td>71.46</td>\n      <td>56</td>\n      <td>0</td>\n      <td>5.66</td>\n      <td>TZ</td>\n      <td>1602824651</td>\n      <td></td>\n      <td></td>\n    </tr>\n  </tbody>\n</table>\n</div>"
     },
     "metadata": {},
     "execution_count": 8
    }
   ],
   "source": [
    "hotel_df"
   ]
  },
  {
   "cell_type": "code",
   "execution_count": 9,
   "metadata": {},
   "outputs": [],
   "source": [
    "# NOTE: Do not change any of the code in this cell\n",
    "\n",
    "# Using the template add the hotel marks to the heatmap\n",
    "info_box_template = \"\"\"\n",
    "<dl>\n",
    "<dt>Name</dt><dd>{Hotel Name}</dd>\n",
    "<dt>City</dt><dd>{City}</dd>\n",
    "<dt>Country</dt><dd>{Country}</dd>\n",
    "</dl>\n",
    "\"\"\"\n",
    "# Store the DataFrame Row\n",
    "# NOTE: be sure to update with your DataFrame name\n",
    "hotel_info = [info_box_template.format(**row) for index, row in hotel_df.iterrows()]\n",
    "locations = hotel_df[[\"Lat\", \"Lng\"]]"
   ]
  },
  {
   "cell_type": "code",
   "execution_count": 10,
   "metadata": {},
   "outputs": [
    {
     "output_type": "execute_result",
     "data": {
      "text/plain": [
       "    City_ID         City    Lat     Lng  Max Temp  Humidity  Cloudiness  \\\n",
       "0        20  san quintin  30.48 -115.95     71.64        60           0   \n",
       "1        33     tucupita   9.06  -62.05     73.81        95           0   \n",
       "2       261        kutum  14.20   24.67     74.39        20           0   \n",
       "3       284       hwange -18.37   26.50     74.30        49           0   \n",
       "4       299      brumado -14.20  -41.67     72.70        64           0   \n",
       "5       370    abu kamal  34.45   40.92     70.59        51           0   \n",
       "6       397      xai-xai -25.05   33.64     70.57        69           0   \n",
       "7       406    cupertino  37.32 -122.03     77.00        32           0   \n",
       "8       414      prainha  -1.80  -53.48     77.13        77           0   \n",
       "9       430        jumla  29.27   82.18     71.29        26           0   \n",
       "10      466    port said  31.26   32.28     75.20        78           0   \n",
       "11      471  grand gaube -20.01   57.66     79.00        64           0   \n",
       "12      561        dunda  -8.12   34.25     71.46        56           0   \n",
       "\n",
       "    Wind Speed Country        Date                                Hotel Name  \\\n",
       "0         3.36      MX  1602824530                            Old Mill Hotel   \n",
       "1         2.68      VE  1602824533                Hotel Tucupita Su​ite C.A.   \n",
       "2         8.90      SD  1602824588                       Dibbo areaمنطقة دبو   \n",
       "3         5.50      ZW  1602824593               Hwange Colliery Guest House   \n",
       "4         5.08      BR  1602824596                          Hotel São Lázaro   \n",
       "5         8.75      SY  1602824612                              محطة التلفاز   \n",
       "6         5.21      MZ  1602824617                            Platinum Hotel   \n",
       "7         1.01      US  1602824619  Courtyard by Marriott San Jose Cupertino   \n",
       "8         3.89      BR  1602824620                            Hotel Brasília   \n",
       "9         4.90      NP  1602824583                 Hotel Sundar Rara Karnali   \n",
       "10        8.05      EG  1602824631                              Aracan Hotel   \n",
       "11        7.00      MU  1602824632      Veranda Paul et Virginie Hotel & Spa   \n",
       "12        5.66      TZ  1602824651                                             \n",
       "\n",
       "   Hotel Address  \n",
       "0                 \n",
       "1                 \n",
       "2                 \n",
       "3                 \n",
       "4                 \n",
       "5                 \n",
       "6                 \n",
       "7                 \n",
       "8                 \n",
       "9                 \n",
       "10                \n",
       "11                \n",
       "12                "
      ],
      "text/html": "<div>\n<style scoped>\n    .dataframe tbody tr th:only-of-type {\n        vertical-align: middle;\n    }\n\n    .dataframe tbody tr th {\n        vertical-align: top;\n    }\n\n    .dataframe thead th {\n        text-align: right;\n    }\n</style>\n<table border=\"1\" class=\"dataframe\">\n  <thead>\n    <tr style=\"text-align: right;\">\n      <th></th>\n      <th>City_ID</th>\n      <th>City</th>\n      <th>Lat</th>\n      <th>Lng</th>\n      <th>Max Temp</th>\n      <th>Humidity</th>\n      <th>Cloudiness</th>\n      <th>Wind Speed</th>\n      <th>Country</th>\n      <th>Date</th>\n      <th>Hotel Name</th>\n      <th>Hotel Address</th>\n    </tr>\n  </thead>\n  <tbody>\n    <tr>\n      <th>0</th>\n      <td>20</td>\n      <td>san quintin</td>\n      <td>30.48</td>\n      <td>-115.95</td>\n      <td>71.64</td>\n      <td>60</td>\n      <td>0</td>\n      <td>3.36</td>\n      <td>MX</td>\n      <td>1602824530</td>\n      <td>Old Mill Hotel</td>\n      <td></td>\n    </tr>\n    <tr>\n      <th>1</th>\n      <td>33</td>\n      <td>tucupita</td>\n      <td>9.06</td>\n      <td>-62.05</td>\n      <td>73.81</td>\n      <td>95</td>\n      <td>0</td>\n      <td>2.68</td>\n      <td>VE</td>\n      <td>1602824533</td>\n      <td>Hotel Tucupita Su​ite C.A.</td>\n      <td></td>\n    </tr>\n    <tr>\n      <th>2</th>\n      <td>261</td>\n      <td>kutum</td>\n      <td>14.20</td>\n      <td>24.67</td>\n      <td>74.39</td>\n      <td>20</td>\n      <td>0</td>\n      <td>8.90</td>\n      <td>SD</td>\n      <td>1602824588</td>\n      <td>Dibbo areaمنطقة دبو</td>\n      <td></td>\n    </tr>\n    <tr>\n      <th>3</th>\n      <td>284</td>\n      <td>hwange</td>\n      <td>-18.37</td>\n      <td>26.50</td>\n      <td>74.30</td>\n      <td>49</td>\n      <td>0</td>\n      <td>5.50</td>\n      <td>ZW</td>\n      <td>1602824593</td>\n      <td>Hwange Colliery Guest House</td>\n      <td></td>\n    </tr>\n    <tr>\n      <th>4</th>\n      <td>299</td>\n      <td>brumado</td>\n      <td>-14.20</td>\n      <td>-41.67</td>\n      <td>72.70</td>\n      <td>64</td>\n      <td>0</td>\n      <td>5.08</td>\n      <td>BR</td>\n      <td>1602824596</td>\n      <td>Hotel São Lázaro</td>\n      <td></td>\n    </tr>\n    <tr>\n      <th>5</th>\n      <td>370</td>\n      <td>abu kamal</td>\n      <td>34.45</td>\n      <td>40.92</td>\n      <td>70.59</td>\n      <td>51</td>\n      <td>0</td>\n      <td>8.75</td>\n      <td>SY</td>\n      <td>1602824612</td>\n      <td>محطة التلفاز</td>\n      <td></td>\n    </tr>\n    <tr>\n      <th>6</th>\n      <td>397</td>\n      <td>xai-xai</td>\n      <td>-25.05</td>\n      <td>33.64</td>\n      <td>70.57</td>\n      <td>69</td>\n      <td>0</td>\n      <td>5.21</td>\n      <td>MZ</td>\n      <td>1602824617</td>\n      <td>Platinum Hotel</td>\n      <td></td>\n    </tr>\n    <tr>\n      <th>7</th>\n      <td>406</td>\n      <td>cupertino</td>\n      <td>37.32</td>\n      <td>-122.03</td>\n      <td>77.00</td>\n      <td>32</td>\n      <td>0</td>\n      <td>1.01</td>\n      <td>US</td>\n      <td>1602824619</td>\n      <td>Courtyard by Marriott San Jose Cupertino</td>\n      <td></td>\n    </tr>\n    <tr>\n      <th>8</th>\n      <td>414</td>\n      <td>prainha</td>\n      <td>-1.80</td>\n      <td>-53.48</td>\n      <td>77.13</td>\n      <td>77</td>\n      <td>0</td>\n      <td>3.89</td>\n      <td>BR</td>\n      <td>1602824620</td>\n      <td>Hotel Brasília</td>\n      <td></td>\n    </tr>\n    <tr>\n      <th>9</th>\n      <td>430</td>\n      <td>jumla</td>\n      <td>29.27</td>\n      <td>82.18</td>\n      <td>71.29</td>\n      <td>26</td>\n      <td>0</td>\n      <td>4.90</td>\n      <td>NP</td>\n      <td>1602824583</td>\n      <td>Hotel Sundar Rara Karnali</td>\n      <td></td>\n    </tr>\n    <tr>\n      <th>10</th>\n      <td>466</td>\n      <td>port said</td>\n      <td>31.26</td>\n      <td>32.28</td>\n      <td>75.20</td>\n      <td>78</td>\n      <td>0</td>\n      <td>8.05</td>\n      <td>EG</td>\n      <td>1602824631</td>\n      <td>Aracan Hotel</td>\n      <td></td>\n    </tr>\n    <tr>\n      <th>11</th>\n      <td>471</td>\n      <td>grand gaube</td>\n      <td>-20.01</td>\n      <td>57.66</td>\n      <td>79.00</td>\n      <td>64</td>\n      <td>0</td>\n      <td>7.00</td>\n      <td>MU</td>\n      <td>1602824632</td>\n      <td>Veranda Paul et Virginie Hotel &amp; Spa</td>\n      <td></td>\n    </tr>\n    <tr>\n      <th>12</th>\n      <td>561</td>\n      <td>dunda</td>\n      <td>-8.12</td>\n      <td>34.25</td>\n      <td>71.46</td>\n      <td>56</td>\n      <td>0</td>\n      <td>5.66</td>\n      <td>TZ</td>\n      <td>1602824651</td>\n      <td></td>\n      <td></td>\n    </tr>\n  </tbody>\n</table>\n</div>"
     },
     "metadata": {},
     "execution_count": 10
    }
   ],
   "source": [
    "hotel_df"
   ]
  },
  {
   "cell_type": "code",
   "execution_count": 11,
   "metadata": {},
   "outputs": [
    {
     "output_type": "display_data",
     "data": {
      "text/plain": "Figure(layout=FigureLayout(border='1px solid black', height='600px', padding='1px', width='1000px'))",
      "application/vnd.jupyter.widget-view+json": {
       "version_major": 2,
       "version_minor": 0,
       "model_id": "37991e1712924cb1b23fb336c7f5797b"
      }
     },
     "metadata": {}
    }
   ],
   "source": [
    "\n",
    "# add marker layer on top of heat map\n",
    "markers = gmaps.marker_layer(locations, info_box_content=hotel_info)\n",
    "fig.add_layer(markers)\n",
    "\n",
    "# display figure\n",
    "fig"
   ]
  },
  {
   "cell_type": "code",
   "execution_count": null,
   "metadata": {},
   "outputs": [],
   "source": []
  }
 ],
 "metadata": {
  "kernelspec": {
   "name": "Python 3.6.10 64-bit ('PythonData': conda)",
   "display_name": "Python 3.6.10 64-bit ('PythonData': conda)",
   "metadata": {
    "interpreter": {
     "hash": "3f5bcd5f88cdae160004cd93282c1c01a78c89e1c0e63053b2f7d8269944d0e2"
    }
   }
  },
  "language_info": {
   "codemirror_mode": {
    "name": "ipython",
    "version": 3
   },
   "file_extension": ".py",
   "mimetype": "text/x-python",
   "name": "python",
   "nbconvert_exporter": "python",
   "pygments_lexer": "ipython3",
   "version": "3.6.10-final"
  },
  "latex_envs": {
   "LaTeX_envs_menu_present": true,
   "autoclose": false,
   "autocomplete": true,
   "bibliofile": "biblio.bib",
   "cite_by": "apalike",
   "current_citInitial": 1,
   "eqLabelWithNumbers": true,
   "eqNumInitial": 1,
   "hotkeys": {
    "equation": "Ctrl-E",
    "itemize": "Ctrl-I"
   },
   "labels_anchors": false,
   "latex_user_defs": false,
   "report_style_numbering": false,
   "user_envs_cfg": false
  }
 },
 "nbformat": 4,
 "nbformat_minor": 4
}