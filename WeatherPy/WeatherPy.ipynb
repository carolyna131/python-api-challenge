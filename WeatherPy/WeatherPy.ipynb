{
 "cells": [
  {
   "cell_type": "markdown",
   "metadata": {},
   "source": [
    "# WeatherPy\n",
    "----\n",
    "\n",
    "#### Note\n",
    "* Instructions have been included for each segment. You do not have to follow them exactly, but they are included to help you think through the steps."
   ]
  },
  {
   "cell_type": "code",
   "execution_count": null,
   "metadata": {
    "scrolled": true
   },
   "outputs": [],
   "source": [
    "# Dependencies and Setup\n",
    "import matplotlib.pyplot as plt\n",
    "import pandas as pd\n",
    "import numpy as np\n",
    "import requests\n",
    "import time\n",
    "from scipy.stats import linregress\n",
    "\n",
    "# Import API key\n",
    "from api_keys import weather_api_key\n",
    "\n",
    "# Incorporated citipy to determine city based on latitude and longitude\n",
    "from citipy import citipy\n",
    "\n",
    "# Output File (CSV)\n",
    "output_data_file = \"output_data/cities.csv\"\n",
    "\n",
    "# Range of latitudes and longitudes\n",
    "lat_range = (-90, 90)\n",
    "lng_range = (-180, 180)"
   ]
  },
  {
   "cell_type": "markdown",
   "metadata": {},
   "source": [
    "## Generate Cities List"
   ]
  },
  {
   "cell_type": "code",
   "execution_count": 2,
   "metadata": {},
   "outputs": [
    {
     "data": {
      "text/plain": [
       "597"
      ]
     },
     "execution_count": 2,
     "metadata": {},
     "output_type": "execute_result"
    }
   ],
   "source": [
    "# List for holding lat_lngs and cities\n",
    "lat_lngs = []\n",
    "cities = []\n",
    "\n",
    "# Create a set of random lat and lng combinations\n",
    "lats = np.random.uniform(lat_range[0], lat_range[1], size=1500)\n",
    "lngs = np.random.uniform(lng_range[0], lng_range[1], size=1500)\n",
    "lat_lngs = zip(lats, lngs)\n",
    "\n",
    "# Identify nearest city for each lat, lng combination\n",
    "for lat_lng in lat_lngs:\n",
    "    city = citipy.nearest_city(lat_lng[0], lat_lng[1]).city_name\n",
    "    \n",
    "    # If the city is unique, then add it to a our cities list\n",
    "    if city not in cities:\n",
    "        cities.append(city)\n",
    "\n",
    "# Print the city count to confirm sufficient count\n",
    "len(cities)"
   ]
  },
  {
   "cell_type": "markdown",
   "metadata": {},
   "source": [
    "### Perform API Calls\n",
    "* Perform a weather check on each city using a series of successive API calls.\n",
    "* Include a print log of each city as it'sbeing processed (with the city number and city name).\n"
   ]
  },
  {
   "cell_type": "code",
   "execution_count": 3,
   "metadata": {
    "scrolled": true
   },
   "outputs": [
    {
     "name": "stdout",
     "output_type": "stream",
     "text": [
      "Beginning Data Retrieval\n",
      "---------------\n",
      "Processing Record 1 of Set 1 | ushuaia\n",
      "Processing Record 2 of Set 1 | illoqqortoormiut\n",
      "City not found. Skipping ...\n",
      "-----------------------\n",
      "Data Retrieval Complete\n",
      "-----------------------\n",
      "Processing Record 3 of Set 1 | bluff\n",
      "Processing Record 4 of Set 1 | punta arenas\n",
      "Processing Record 5 of Set 1 | baykit\n",
      "Processing Record 6 of Set 1 | marcona\n",
      "City not found. Skipping ...\n",
      "-----------------------\n",
      "Data Retrieval Complete\n",
      "-----------------------\n",
      "Processing Record 7 of Set 1 | jiangyou\n",
      "Processing Record 8 of Set 1 | taolanaro\n",
      "City not found. Skipping ...\n",
      "-----------------------\n",
      "Data Retrieval Complete\n",
      "-----------------------\n",
      "Processing Record 9 of Set 1 | rosetown\n",
      "Processing Record 10 of Set 1 | jamestown\n",
      "Processing Record 11 of Set 1 | anadyr\n",
      "Processing Record 12 of Set 1 | hermanus\n",
      "Processing Record 13 of Set 1 | yellowknife\n",
      "Processing Record 14 of Set 1 | avarua\n",
      "Processing Record 15 of Set 1 | guadalupe y calvo\n",
      "Processing Record 16 of Set 1 | kapaa\n",
      "Processing Record 17 of Set 1 | payo\n",
      "Processing Record 18 of Set 1 | saskylakh\n",
      "Processing Record 19 of Set 1 | kuche\n",
      "City not found. Skipping ...\n",
      "-----------------------\n",
      "Data Retrieval Complete\n",
      "-----------------------\n",
      "Processing Record 20 of Set 1 | arzachena\n",
      "Processing Record 21 of Set 1 | tuktoyaktuk\n",
      "Processing Record 22 of Set 1 | carnarvon\n",
      "Processing Record 23 of Set 1 | port elizabeth\n",
      "Processing Record 24 of Set 1 | kieta\n",
      "Processing Record 25 of Set 1 | rio grande\n",
      "Processing Record 26 of Set 1 | maceio\n",
      "Processing Record 27 of Set 1 | montoro\n",
      "Processing Record 28 of Set 1 | vila velha\n",
      "Processing Record 29 of Set 1 | klyuchi\n",
      "Processing Record 30 of Set 1 | vaitupu\n",
      "City not found. Skipping ...\n",
      "-----------------------\n",
      "Data Retrieval Complete\n",
      "-----------------------\n",
      "Processing Record 31 of Set 1 | qaanaaq\n",
      "Processing Record 32 of Set 1 | atuona\n",
      "Processing Record 33 of Set 1 | gijon\n",
      "Processing Record 34 of Set 1 | touros\n",
      "Processing Record 35 of Set 1 | bredasdorp\n",
      "Processing Record 36 of Set 1 | kaitangata\n",
      "Processing Record 37 of Set 1 | munak\n",
      "Processing Record 38 of Set 1 | caravelas\n",
      "Processing Record 39 of Set 1 | albany\n",
      "Processing Record 40 of Set 1 | thompson\n",
      "Processing Record 41 of Set 1 | acapulco\n",
      "Processing Record 42 of Set 1 | kodiak\n",
      "Processing Record 43 of Set 1 | dikson\n",
      "Processing Record 44 of Set 1 | makakilo city\n",
      "Processing Record 45 of Set 1 | port lincoln\n",
      "Processing Record 46 of Set 1 | brightwater\n",
      "Processing Record 47 of Set 1 | rikitea\n",
      "Processing Record 48 of Set 1 | severodvinsk\n",
      "Processing Record 49 of Set 1 | mataura\n",
      "Processing Record 50 of Set 1 | castro\n",
      "Processing Record 0 of Set 2 | butaritari\n",
      "Processing Record 1 of Set 2 | belushya guba\n",
      "City not found. Skipping ...\n",
      "-----------------------\n",
      "Data Retrieval Complete\n",
      "-----------------------\n",
      "Processing Record 2 of Set 2 | ola\n",
      "Processing Record 3 of Set 2 | saint-philippe\n",
      "Processing Record 4 of Set 2 | broken hill\n",
      "Processing Record 5 of Set 2 | burnie\n",
      "Processing Record 6 of Set 2 | atencingo\n",
      "Processing Record 7 of Set 2 | pevek\n",
      "Processing Record 8 of Set 2 | east london\n",
      "Processing Record 9 of Set 2 | kahului\n",
      "Processing Record 10 of Set 2 | busselton\n",
      "Processing Record 11 of Set 2 | cape town\n",
      "Processing Record 12 of Set 2 | richards bay\n",
      "Processing Record 13 of Set 2 | paarl\n",
      "Processing Record 14 of Set 2 | mahebourg\n",
      "Processing Record 15 of Set 2 | ponta do sol\n",
      "Processing Record 16 of Set 2 | kamenskoye\n",
      "City not found. Skipping ...\n",
      "-----------------------\n",
      "Data Retrieval Complete\n",
      "-----------------------\n",
      "Processing Record 17 of Set 2 | santa maria\n",
      "Processing Record 18 of Set 2 | otradnoye\n",
      "Processing Record 19 of Set 2 | san quintin\n",
      "Processing Record 20 of Set 2 | udachnyy\n",
      "Processing Record 21 of Set 2 | lewistown\n",
      "Processing Record 22 of Set 2 | kutahya\n",
      "Processing Record 23 of Set 2 | yar-sale\n",
      "Processing Record 24 of Set 2 | hithadhoo\n",
      "Processing Record 25 of Set 2 | bethel\n",
      "Processing Record 26 of Set 2 | angra\n",
      "City not found. Skipping ...\n",
      "-----------------------\n",
      "Data Retrieval Complete\n",
      "-----------------------\n",
      "Processing Record 27 of Set 2 | hilo\n",
      "Processing Record 28 of Set 2 | shiraz\n",
      "Processing Record 29 of Set 2 | alice springs\n",
      "Processing Record 30 of Set 2 | madang\n",
      "Processing Record 31 of Set 2 | vaini\n",
      "Processing Record 32 of Set 2 | mar del plata\n",
      "Processing Record 33 of Set 2 | amderma\n",
      "City not found. Skipping ...\n",
      "-----------------------\n",
      "Data Retrieval Complete\n",
      "-----------------------\n",
      "Processing Record 34 of Set 2 | lompoc\n",
      "Processing Record 35 of Set 2 | puerto ayora\n",
      "Processing Record 36 of Set 2 | kenai\n",
      "Processing Record 37 of Set 2 | vila franca do campo\n",
      "Processing Record 38 of Set 2 | nyimba\n",
      "Processing Record 39 of Set 2 | te anau\n",
      "Processing Record 40 of Set 2 | ribeira grande\n",
      "Processing Record 41 of Set 2 | faanui\n",
      "Processing Record 42 of Set 2 | sao filipe\n",
      "Processing Record 43 of Set 2 | imbituba\n",
      "Processing Record 44 of Set 2 | huejuquilla el alto\n",
      "Processing Record 45 of Set 2 | khatanga\n",
      "Processing Record 46 of Set 2 | araguatins\n",
      "City not found. Skipping ...\n",
      "-----------------------\n",
      "Data Retrieval Complete\n",
      "-----------------------\n",
      "Processing Record 47 of Set 2 | sijunjung\n",
      "Processing Record 48 of Set 2 | ponta delgada\n",
      "Processing Record 49 of Set 2 | sentyabrskiy\n",
      "City not found. Skipping ...\n",
      "-----------------------\n",
      "Data Retrieval Complete\n",
      "-----------------------\n",
      "Processing Record 0 of Set 3 | barrow\n",
      "Processing Record 1 of Set 3 | lonevag\n",
      "Processing Record 2 of Set 3 | sitka\n",
      "Processing Record 3 of Set 3 | petrolandia\n",
      "City not found. Skipping ...\n",
      "-----------------------\n",
      "Data Retrieval Complete\n",
      "-----------------------\n",
      "Processing Record 4 of Set 3 | asau\n",
      "Processing Record 5 of Set 3 | duluth\n",
      "Processing Record 6 of Set 3 | aksarka\n",
      "Processing Record 7 of Set 3 | barcelos\n",
      "Processing Record 8 of Set 3 | ko samui\n",
      "Processing Record 9 of Set 3 | aginskoye\n",
      "Processing Record 10 of Set 3 | grand river south east\n",
      "City not found. Skipping ...\n",
      "-----------------------\n",
      "Data Retrieval Complete\n",
      "-----------------------\n",
      "Processing Record 11 of Set 3 | cariamanga\n",
      "Processing Record 12 of Set 3 | ilulissat\n",
      "Processing Record 13 of Set 3 | nizhneyansk\n",
      "City not found. Skipping ...\n",
      "-----------------------\n",
      "Data Retrieval Complete\n",
      "-----------------------\n",
      "Processing Record 14 of Set 3 | rawah\n",
      "Processing Record 15 of Set 3 | samarai\n",
      "Processing Record 16 of Set 3 | aykhal\n",
      "Processing Record 17 of Set 3 | puerto carreno\n",
      "Processing Record 18 of Set 3 | nara\n",
      "Processing Record 19 of Set 3 | port alfred\n",
      "Processing Record 20 of Set 3 | serov\n",
      "Processing Record 21 of Set 3 | benjamin constant\n",
      "Processing Record 22 of Set 3 | jipijapa\n",
      "Processing Record 23 of Set 3 | new norfolk\n",
      "Processing Record 24 of Set 3 | tessalit\n",
      "Processing Record 25 of Set 3 | labutta\n",
      "City not found. Skipping ...\n",
      "-----------------------\n",
      "Data Retrieval Complete\n",
      "-----------------------\n",
      "Processing Record 26 of Set 3 | carballo\n",
      "Processing Record 27 of Set 3 | arraial do cabo\n",
      "Processing Record 28 of Set 3 | garowe\n",
      "Processing Record 29 of Set 3 | airai\n",
      "Processing Record 30 of Set 3 | orasac\n",
      "Processing Record 31 of Set 3 | tazovskiy\n",
      "Processing Record 32 of Set 3 | georgetown\n",
      "Processing Record 33 of Set 3 | hobart\n",
      "Processing Record 34 of Set 3 | tuatapere\n",
      "Processing Record 35 of Set 3 | dubti\n",
      "Processing Record 36 of Set 3 | merritt island\n",
      "Processing Record 37 of Set 3 | fairbanks\n",
      "Processing Record 38 of Set 3 | dong xoai\n",
      "Processing Record 39 of Set 3 | tasiilaq\n",
      "Processing Record 40 of Set 3 | upernavik\n",
      "Processing Record 41 of Set 3 | verkhniy landekh\n",
      "Processing Record 42 of Set 3 | kondagaon\n",
      "Processing Record 43 of Set 3 | beringovskiy\n",
      "Processing Record 44 of Set 3 | kununurra\n",
      "Processing Record 45 of Set 3 | sinkat\n",
      "City not found. Skipping ...\n",
      "-----------------------\n",
      "Data Retrieval Complete\n",
      "-----------------------\n",
      "Processing Record 46 of Set 3 | aripuana\n",
      "Processing Record 47 of Set 3 | hasaki\n",
      "Processing Record 48 of Set 3 | brigantine\n",
      "Processing Record 49 of Set 3 | bargal\n",
      "City not found. Skipping ...\n",
      "-----------------------\n",
      "Data Retrieval Complete\n",
      "-----------------------\n",
      "Processing Record 0 of Set 4 | pisco\n",
      "Processing Record 1 of Set 4 | tilichiki\n",
      "Processing Record 2 of Set 4 | fare\n",
      "Processing Record 3 of Set 4 | ouallam\n",
      "Processing Record 4 of Set 4 | cockburn harbour\n",
      "City not found. Skipping ...\n",
      "-----------------------\n",
      "Data Retrieval Complete\n",
      "-----------------------\n",
      "Processing Record 5 of Set 4 | muisne\n",
      "Processing Record 6 of Set 4 | tura\n"
     ]
    },
    {
     "name": "stdout",
     "output_type": "stream",
     "text": [
      "Processing Record 7 of Set 4 | west wendover\n",
      "Processing Record 8 of Set 4 | ardakan\n",
      "Processing Record 9 of Set 4 | cherskiy\n",
      "Processing Record 10 of Set 4 | palomares\n",
      "Processing Record 11 of Set 4 | fort nelson\n",
      "Processing Record 12 of Set 4 | clyde river\n",
      "Processing Record 13 of Set 4 | tiarei\n",
      "Processing Record 14 of Set 4 | aflu\n",
      "City not found. Skipping ...\n",
      "-----------------------\n",
      "Data Retrieval Complete\n",
      "-----------------------\n",
      "Processing Record 15 of Set 4 | victoria\n",
      "Processing Record 16 of Set 4 | tikapur\n",
      "Processing Record 17 of Set 4 | manta\n",
      "Processing Record 18 of Set 4 | samusu\n",
      "City not found. Skipping ...\n",
      "-----------------------\n",
      "Data Retrieval Complete\n",
      "-----------------------\n",
      "Processing Record 19 of Set 4 | moultonborough\n",
      "Processing Record 20 of Set 4 | chokurdakh\n",
      "Processing Record 21 of Set 4 | aurangabad\n",
      "Processing Record 22 of Set 4 | papar\n",
      "Processing Record 23 of Set 4 | margate\n",
      "Processing Record 24 of Set 4 | lagoa\n",
      "Processing Record 25 of Set 4 | kavieng\n",
      "Processing Record 26 of Set 4 | mount darwin\n",
      "Processing Record 27 of Set 4 | strezhevoy\n",
      "Processing Record 28 of Set 4 | santa fe\n",
      "Processing Record 29 of Set 4 | cabo san lucas\n",
      "Processing Record 30 of Set 4 | vao\n",
      "Processing Record 31 of Set 4 | lavrentiya\n",
      "Processing Record 32 of Set 4 | tiksi\n",
      "Processing Record 33 of Set 4 | katsuura\n",
      "Processing Record 34 of Set 4 | anahuac\n",
      "Processing Record 35 of Set 4 | tierra colorada\n",
      "Processing Record 36 of Set 4 | port augusta\n",
      "Processing Record 37 of Set 4 | faya\n",
      "Processing Record 38 of Set 4 | iranshahr\n",
      "Processing Record 39 of Set 4 | karratha\n",
      "Processing Record 40 of Set 4 | kalmunai\n",
      "Processing Record 41 of Set 4 | banepa\n",
      "Processing Record 42 of Set 4 | aklavik\n",
      "Processing Record 43 of Set 4 | torbay\n",
      "Processing Record 44 of Set 4 | andevoranto\n",
      "City not found. Skipping ...\n",
      "-----------------------\n",
      "Data Retrieval Complete\n",
      "-----------------------\n",
      "Processing Record 45 of Set 4 | birjand\n",
      "Processing Record 46 of Set 4 | hambantota\n",
      "Processing Record 47 of Set 4 | jalu\n",
      "Processing Record 48 of Set 4 | hofn\n",
      "Processing Record 49 of Set 4 | lebu\n",
      "Processing Record 0 of Set 5 | grand gaube\n",
      "Processing Record 1 of Set 5 | acajutla\n",
      "Processing Record 2 of Set 5 | nguiu\n",
      "City not found. Skipping ...\n",
      "-----------------------\n",
      "Data Retrieval Complete\n",
      "-----------------------\n",
      "Processing Record 3 of Set 5 | aksu\n",
      "Processing Record 4 of Set 5 | longyearbyen\n",
      "Processing Record 5 of Set 5 | mys shmidta\n",
      "City not found. Skipping ...\n",
      "-----------------------\n",
      "Data Retrieval Complete\n",
      "-----------------------\n",
      "Processing Record 6 of Set 5 | ancud\n",
      "Processing Record 7 of Set 5 | melilla\n",
      "Processing Record 8 of Set 5 | mahuva\n",
      "Processing Record 9 of Set 5 | chagda\n",
      "City not found. Skipping ...\n",
      "-----------------------\n",
      "Data Retrieval Complete\n",
      "-----------------------\n",
      "Processing Record 10 of Set 5 | havelock\n",
      "Processing Record 11 of Set 5 | springbok\n",
      "Processing Record 12 of Set 5 | geraldton\n",
      "Processing Record 13 of Set 5 | roald\n",
      "Processing Record 14 of Set 5 | port blair\n",
      "Processing Record 15 of Set 5 | coihaique\n",
      "Processing Record 16 of Set 5 | ginir\n",
      "Processing Record 17 of Set 5 | monterey\n",
      "Processing Record 18 of Set 5 | toora-khem\n",
      "Processing Record 19 of Set 5 | alamosa\n",
      "Processing Record 20 of Set 5 | esik\n",
      "Processing Record 21 of Set 5 | palabuhanratu\n",
      "City not found. Skipping ...\n",
      "-----------------------\n",
      "Data Retrieval Complete\n",
      "-----------------------\n",
      "Processing Record 22 of Set 5 | nanortalik\n",
      "Processing Record 23 of Set 5 | attawapiskat\n",
      "City not found. Skipping ...\n",
      "-----------------------\n",
      "Data Retrieval Complete\n",
      "-----------------------\n",
      "Processing Record 24 of Set 5 | mubende\n",
      "Processing Record 25 of Set 5 | labuan\n",
      "Processing Record 26 of Set 5 | riverton\n",
      "Processing Record 27 of Set 5 | waingapu\n",
      "Processing Record 28 of Set 5 | tsihombe\n",
      "City not found. Skipping ...\n",
      "-----------------------\n",
      "Data Retrieval Complete\n",
      "-----------------------\n",
      "Processing Record 29 of Set 5 | porto novo\n",
      "Processing Record 30 of Set 5 | kalispell\n",
      "Processing Record 31 of Set 5 | souillac\n",
      "Processing Record 32 of Set 5 | bubaque\n",
      "Processing Record 33 of Set 5 | accra\n",
      "Processing Record 34 of Set 5 | arandelovac\n",
      "City not found. Skipping ...\n",
      "-----------------------\n",
      "Data Retrieval Complete\n",
      "-----------------------\n",
      "Processing Record 35 of Set 5 | huanren\n",
      "Processing Record 36 of Set 5 | dingle\n",
      "Processing Record 37 of Set 5 | uthal\n",
      "Processing Record 38 of Set 5 | comodoro rivadavia\n",
      "Processing Record 39 of Set 5 | ivanava\n",
      "Processing Record 40 of Set 5 | kristiinankaupunki\n",
      "Processing Record 41 of Set 5 | meyungs\n",
      "City not found. Skipping ...\n",
      "-----------------------\n",
      "Data Retrieval Complete\n",
      "-----------------------\n",
      "Processing Record 42 of Set 5 | kenora\n",
      "Processing Record 43 of Set 5 | vardo\n",
      "Processing Record 44 of Set 5 | nouadhibou\n",
      "Processing Record 45 of Set 5 | clocolan\n",
      "Processing Record 46 of Set 5 | general roca\n",
      "Processing Record 47 of Set 5 | maine-soroa\n",
      "Processing Record 48 of Set 5 | mayumba\n",
      "Processing Record 49 of Set 5 | mount gambier\n",
      "Processing Record 0 of Set 6 | guerrero negro\n",
      "Processing Record 1 of Set 6 | camopi\n",
      "Processing Record 2 of Set 6 | mataram\n",
      "Processing Record 3 of Set 6 | mawlaik\n",
      "Processing Record 4 of Set 6 | banjar\n",
      "Processing Record 5 of Set 6 | goroka\n",
      "Processing Record 6 of Set 6 | vityazevo\n",
      "Processing Record 7 of Set 6 | pinotepa nacional\n",
      "Processing Record 8 of Set 6 | spoleto\n",
      "Processing Record 9 of Set 6 | surt\n",
      "Processing Record 10 of Set 6 | rawson\n",
      "Processing Record 11 of Set 6 | oktyabrskiy\n",
      "Processing Record 12 of Set 6 | karatau\n",
      "Processing Record 13 of Set 6 | palmer\n",
      "Processing Record 14 of Set 6 | wajima\n",
      "Processing Record 15 of Set 6 | salalah\n",
      "Processing Record 16 of Set 6 | eyl\n",
      "Processing Record 17 of Set 6 | micheweni\n",
      "Processing Record 18 of Set 6 | birao\n",
      "Processing Record 19 of Set 6 | tagusao\n",
      "Processing Record 20 of Set 6 | wazzan\n",
      "City not found. Skipping ...\n",
      "-----------------------\n",
      "Data Retrieval Complete\n",
      "-----------------------\n",
      "Processing Record 21 of Set 6 | puerto del rosario\n",
      "Processing Record 22 of Set 6 | mayo\n",
      "Processing Record 23 of Set 6 | belmonte\n",
      "Processing Record 24 of Set 6 | naze\n",
      "Processing Record 25 of Set 6 | codrington\n",
      "Processing Record 26 of Set 6 | paamiut\n",
      "Processing Record 27 of Set 6 | pacific grove\n",
      "Processing Record 28 of Set 6 | komsomolskiy\n",
      "Processing Record 29 of Set 6 | narsaq\n",
      "Processing Record 30 of Set 6 | kimbe\n",
      "Processing Record 31 of Set 6 | waipawa\n",
      "Processing Record 32 of Set 6 | bartica\n",
      "Processing Record 33 of Set 6 | lorengau\n",
      "Processing Record 34 of Set 6 | yarada\n",
      "Processing Record 35 of Set 6 | north platte\n",
      "Processing Record 36 of Set 6 | taltal\n",
      "Processing Record 37 of Set 6 | muli\n",
      "Processing Record 38 of Set 6 | rolim de moura\n",
      "City not found. Skipping ...\n",
      "-----------------------\n",
      "Data Retrieval Complete\n",
      "-----------------------\n",
      "Processing Record 39 of Set 6 | saint combs\n",
      "City not found. Skipping ...\n",
      "-----------------------\n",
      "Data Retrieval Complete\n",
      "-----------------------\n",
      "Processing Record 40 of Set 6 | hazorasp\n",
      "Processing Record 41 of Set 6 | walvis bay\n",
      "Processing Record 42 of Set 6 | klaksvik\n",
      "Processing Record 43 of Set 6 | hirara\n",
      "Processing Record 44 of Set 6 | nalut\n",
      "Processing Record 45 of Set 6 | magui\n",
      "City not found. Skipping ...\n",
      "-----------------------\n",
      "Data Retrieval Complete\n",
      "-----------------------\n",
      "Processing Record 46 of Set 6 | katherine\n",
      "Processing Record 47 of Set 6 | provideniya\n",
      "Processing Record 48 of Set 6 | isangel\n",
      "Processing Record 49 of Set 6 | sisimiut\n",
      "Processing Record 0 of Set 7 | tiznit\n",
      "Processing Record 1 of Set 7 | port moresby\n",
      "Processing Record 2 of Set 7 | hay river\n",
      "Processing Record 3 of Set 7 | sampit\n",
      "Processing Record 4 of Set 7 | vestmannaeyjar\n",
      "Processing Record 5 of Set 7 | gat\n",
      "Processing Record 6 of Set 7 | kitimat\n",
      "Processing Record 7 of Set 7 | sola\n",
      "Processing Record 8 of Set 7 | iqaluit\n",
      "Processing Record 9 of Set 7 | flinders\n",
      "Processing Record 10 of Set 7 | sakakah\n",
      "Processing Record 11 of Set 7 | lakselv\n",
      "Processing Record 12 of Set 7 | chama\n",
      "Processing Record 13 of Set 7 | omboue\n",
      "Processing Record 14 of Set 7 | anshun\n",
      "Processing Record 15 of Set 7 | port-gentil\n",
      "Processing Record 16 of Set 7 | hanzhong\n",
      "Processing Record 17 of Set 7 | deputatskiy\n",
      "Processing Record 18 of Set 7 | bandarban\n",
      "Processing Record 19 of Set 7 | lata\n",
      "Processing Record 20 of Set 7 | kalomo\n"
     ]
    },
    {
     "name": "stdout",
     "output_type": "stream",
     "text": [
      "City not found. Skipping ...\n",
      "-----------------------\n",
      "Data Retrieval Complete\n",
      "-----------------------\n",
      "Processing Record 21 of Set 7 | zhob\n",
      "Processing Record 22 of Set 7 | mishelevka\n",
      "Processing Record 23 of Set 7 | sovetskiy\n",
      "Processing Record 24 of Set 7 | ambanja\n",
      "Processing Record 25 of Set 7 | de-kastri\n",
      "Processing Record 26 of Set 7 | naryan-mar\n",
      "Processing Record 27 of Set 7 | fethiye\n",
      "Processing Record 28 of Set 7 | atambua\n",
      "Processing Record 29 of Set 7 | ndele\n",
      "Processing Record 30 of Set 7 | portland\n",
      "Processing Record 31 of Set 7 | husavik\n",
      "Processing Record 32 of Set 7 | leningradskiy\n",
      "Processing Record 33 of Set 7 | fortuna\n",
      "Processing Record 34 of Set 7 | aljezur\n",
      "Processing Record 35 of Set 7 | amuntai\n",
      "Processing Record 36 of Set 7 | qujing\n",
      "Processing Record 37 of Set 7 | tornio\n",
      "Processing Record 38 of Set 7 | neuquen\n",
      "Processing Record 39 of Set 7 | stornoway\n",
      "Processing Record 40 of Set 7 | tarasovskiy\n",
      "Processing Record 41 of Set 7 | nome\n",
      "Processing Record 42 of Set 7 | kruisfontein\n",
      "Processing Record 43 of Set 7 | lethem\n",
      "Processing Record 44 of Set 7 | raga\n",
      "Processing Record 45 of Set 7 | yulara\n",
      "Processing Record 46 of Set 7 | pastos bons\n",
      "Processing Record 47 of Set 7 | nyurba\n",
      "Processing Record 48 of Set 7 | itupiranga\n",
      "Processing Record 49 of Set 7 | okhotsk\n",
      "Processing Record 0 of Set 8 | esperance\n",
      "Processing Record 1 of Set 8 | luganville\n",
      "Processing Record 2 of Set 8 | tarudant\n",
      "City not found. Skipping ...\n",
      "-----------------------\n",
      "Data Retrieval Complete\n",
      "-----------------------\n",
      "Processing Record 3 of Set 8 | sibolga\n",
      "Processing Record 4 of Set 8 | krasnoselkup\n",
      "Processing Record 5 of Set 8 | nikolskoye\n",
      "Processing Record 6 of Set 8 | marsa matruh\n",
      "Processing Record 7 of Set 8 | greven\n",
      "Processing Record 8 of Set 8 | fredericksburg\n",
      "Processing Record 9 of Set 8 | turan\n",
      "Processing Record 10 of Set 8 | naranjal\n",
      "Processing Record 11 of Set 8 | oneonta\n",
      "Processing Record 12 of Set 8 | nurota\n",
      "Processing Record 13 of Set 8 | saint george\n",
      "Processing Record 14 of Set 8 | norman wells\n",
      "Processing Record 15 of Set 8 | krasnoarmeysk\n",
      "Processing Record 16 of Set 8 | nisia floresta\n",
      "Processing Record 17 of Set 8 | chuy\n",
      "Processing Record 18 of Set 8 | lahaina\n",
      "Processing Record 19 of Set 8 | yazman\n",
      "Processing Record 20 of Set 8 | bagdarin\n",
      "Processing Record 21 of Set 8 | santa eulalia del rio\n",
      "City not found. Skipping ...\n",
      "-----------------------\n",
      "Data Retrieval Complete\n",
      "-----------------------\n",
      "Processing Record 22 of Set 8 | coquimbo\n",
      "Processing Record 23 of Set 8 | teruel\n",
      "Processing Record 24 of Set 8 | lyngseidet\n",
      "Processing Record 25 of Set 8 | alihe\n",
      "Processing Record 26 of Set 8 | verkh-usugli\n",
      "Processing Record 27 of Set 8 | batticaloa\n",
      "Processing Record 28 of Set 8 | kampene\n",
      "Processing Record 29 of Set 8 | sindand\n",
      "City not found. Skipping ...\n",
      "-----------------------\n",
      "Data Retrieval Complete\n",
      "-----------------------\n",
      "Processing Record 30 of Set 8 | martapura\n",
      "Processing Record 31 of Set 8 | nexo\n",
      "Processing Record 32 of Set 8 | sambava\n",
      "Processing Record 33 of Set 8 | susanville\n",
      "Processing Record 34 of Set 8 | srednekolymsk\n",
      "Processing Record 35 of Set 8 | zhigansk\n",
      "Processing Record 36 of Set 8 | narasannapeta\n",
      "Processing Record 37 of Set 8 | bambous virieux\n",
      "Processing Record 38 of Set 8 | college\n",
      "Processing Record 39 of Set 8 | duz\n",
      "City not found. Skipping ...\n",
      "-----------------------\n",
      "Data Retrieval Complete\n",
      "-----------------------\n",
      "Processing Record 40 of Set 8 | kirishi\n",
      "Processing Record 41 of Set 8 | beyneu\n",
      "Processing Record 42 of Set 8 | sao sebastiao\n",
      "Processing Record 43 of Set 8 | constitucion\n",
      "Processing Record 44 of Set 8 | zhetysay\n",
      "Processing Record 45 of Set 8 | plouzane\n",
      "Processing Record 46 of Set 8 | virginia beach\n",
      "Processing Record 47 of Set 8 | san ramon\n",
      "Processing Record 48 of Set 8 | kiunga\n",
      "Processing Record 49 of Set 8 | la ronge\n",
      "Processing Record 0 of Set 9 | dunkirk\n",
      "Processing Record 1 of Set 9 | tunghsiao\n",
      "City not found. Skipping ...\n",
      "-----------------------\n",
      "Data Retrieval Complete\n",
      "-----------------------\n",
      "Processing Record 2 of Set 9 | socorro\n",
      "Processing Record 3 of Set 9 | roma\n",
      "Processing Record 4 of Set 9 | broome\n",
      "Processing Record 5 of Set 9 | tromso\n",
      "Processing Record 6 of Set 9 | severo-yeniseyskiy\n",
      "Processing Record 7 of Set 9 | puerto escondido\n",
      "Processing Record 8 of Set 9 | curvelo\n",
      "Processing Record 9 of Set 9 | oriximina\n",
      "Processing Record 10 of Set 9 | linjiang\n",
      "Processing Record 11 of Set 9 | tommot\n",
      "Processing Record 12 of Set 9 | barentsburg\n",
      "City not found. Skipping ...\n",
      "-----------------------\n",
      "Data Retrieval Complete\n",
      "-----------------------\n",
      "Processing Record 13 of Set 9 | tessaoua\n",
      "Processing Record 14 of Set 9 | paradwip\n",
      "City not found. Skipping ...\n",
      "-----------------------\n",
      "Data Retrieval Complete\n",
      "-----------------------\n",
      "Processing Record 15 of Set 9 | duvan\n",
      "Processing Record 16 of Set 9 | cumaribo\n",
      "City not found. Skipping ...\n",
      "-----------------------\n",
      "Data Retrieval Complete\n",
      "-----------------------\n",
      "Processing Record 17 of Set 9 | greensburg\n",
      "Processing Record 18 of Set 9 | dakar\n",
      "Processing Record 19 of Set 9 | sawtell\n",
      "Processing Record 20 of Set 9 | verkhnyaya inta\n",
      "Processing Record 21 of Set 9 | bosaso\n",
      "Processing Record 22 of Set 9 | aswan\n",
      "Processing Record 23 of Set 9 | sechura\n",
      "Processing Record 24 of Set 9 | bengkulu\n",
      "Processing Record 25 of Set 9 | high level\n",
      "Processing Record 26 of Set 9 | kingaroy\n",
      "Processing Record 27 of Set 9 | gazli\n",
      "Processing Record 28 of Set 9 | laguna\n",
      "Processing Record 29 of Set 9 | saleaula\n",
      "City not found. Skipping ...\n",
      "-----------------------\n",
      "Data Retrieval Complete\n",
      "-----------------------\n",
      "Processing Record 30 of Set 9 | amahai\n",
      "Processing Record 31 of Set 9 | cabra\n",
      "Processing Record 32 of Set 9 | harrisburg\n",
      "Processing Record 33 of Set 9 | severo-kurilsk\n",
      "Processing Record 34 of Set 9 | kommunar\n",
      "Processing Record 35 of Set 9 | chernyshevskiy\n",
      "Processing Record 36 of Set 9 | belfast\n",
      "Processing Record 37 of Set 9 | henties bay\n",
      "Processing Record 38 of Set 9 | tucson\n",
      "Processing Record 39 of Set 9 | sladkovo\n",
      "Processing Record 40 of Set 9 | port hedland\n",
      "Processing Record 41 of Set 9 | yei\n",
      "Processing Record 42 of Set 9 | fort saint john\n",
      "City not found. Skipping ...\n",
      "-----------------------\n",
      "Data Retrieval Complete\n",
      "-----------------------\n",
      "Processing Record 43 of Set 9 | puerto madero\n",
      "Processing Record 44 of Set 9 | tidore\n",
      "City not found. Skipping ...\n",
      "-----------------------\n",
      "Data Retrieval Complete\n",
      "-----------------------\n",
      "Processing Record 45 of Set 9 | peace river\n",
      "Processing Record 46 of Set 9 | srandakan\n",
      "Processing Record 47 of Set 9 | leh\n",
      "Processing Record 48 of Set 9 | sterling\n",
      "Processing Record 49 of Set 9 | mount isa\n",
      "Processing Record 0 of Set 10 | tomatlan\n",
      "Processing Record 1 of Set 10 | olinda\n",
      "Processing Record 2 of Set 10 | namibe\n",
      "Processing Record 3 of Set 10 | almeirim\n",
      "Processing Record 4 of Set 10 | goba\n",
      "Processing Record 5 of Set 10 | solovetskiy\n",
      "City not found. Skipping ...\n",
      "-----------------------\n",
      "Data Retrieval Complete\n",
      "-----------------------\n",
      "Processing Record 6 of Set 10 | pingliang\n",
      "Processing Record 7 of Set 10 | kargasok\n",
      "Processing Record 8 of Set 10 | huarmey\n",
      "Processing Record 9 of Set 10 | the valley\n",
      "Processing Record 10 of Set 10 | bilibino\n",
      "Processing Record 11 of Set 10 | sinnamary\n",
      "Processing Record 12 of Set 10 | sao miguel do tapuio\n",
      "Processing Record 13 of Set 10 | salinopolis\n",
      "Processing Record 14 of Set 10 | seymchan\n",
      "Processing Record 15 of Set 10 | anito\n",
      "Processing Record 16 of Set 10 | najran\n",
      "Processing Record 17 of Set 10 | cayenne\n",
      "Processing Record 18 of Set 10 | pueblo nuevo\n",
      "Processing Record 19 of Set 10 | umzimvubu\n",
      "City not found. Skipping ...\n",
      "-----------------------\n",
      "Data Retrieval Complete\n",
      "-----------------------\n",
      "Processing Record 20 of Set 10 | stange\n",
      "Processing Record 21 of Set 10 | canberra\n",
      "Processing Record 22 of Set 10 | guanica\n",
      "Processing Record 23 of Set 10 | cidreira\n",
      "Processing Record 24 of Set 10 | punta alta\n",
      "Processing Record 25 of Set 10 | altay\n",
      "Processing Record 26 of Set 10 | pochutla\n",
      "Processing Record 27 of Set 10 | mecca\n",
      "Processing Record 28 of Set 10 | uusikaupunki\n",
      "Processing Record 29 of Set 10 | sioux lookout\n",
      "Processing Record 30 of Set 10 | los llanos de aridane\n",
      "Processing Record 31 of Set 10 | prieska\n",
      "Processing Record 32 of Set 10 | pangai\n",
      "Processing Record 33 of Set 10 | hobyo\n",
      "Processing Record 34 of Set 10 | nishihara\n"
     ]
    },
    {
     "name": "stdout",
     "output_type": "stream",
     "text": [
      "Processing Record 35 of Set 10 | effingham\n",
      "Processing Record 36 of Set 10 | la paz\n",
      "Processing Record 37 of Set 10 | hede\n",
      "Processing Record 38 of Set 10 | mendahara\n",
      "City not found. Skipping ...\n",
      "-----------------------\n",
      "Data Retrieval Complete\n",
      "-----------------------\n",
      "Processing Record 39 of Set 10 | zabaykalsk\n",
      "Processing Record 40 of Set 10 | duma\n",
      "Processing Record 41 of Set 10 | wagga wagga\n",
      "Processing Record 42 of Set 10 | petropavlovsk-kamchatskiy\n",
      "Processing Record 43 of Set 10 | agadez\n",
      "Processing Record 44 of Set 10 | ilhabela\n",
      "Processing Record 45 of Set 10 | haines junction\n",
      "Processing Record 46 of Set 10 | kawambwa\n",
      "Processing Record 47 of Set 10 | rentina\n",
      "Processing Record 48 of Set 10 | karasburg\n",
      "Processing Record 49 of Set 10 | dicabisagan\n",
      "Processing Record 0 of Set 11 | plattsburgh\n",
      "Processing Record 1 of Set 11 | po\n",
      "City not found. Skipping ...\n",
      "-----------------------\n",
      "Data Retrieval Complete\n",
      "-----------------------\n",
      "Processing Record 2 of Set 11 | port keats\n",
      "Processing Record 3 of Set 11 | kerman\n",
      "Processing Record 4 of Set 11 | hanumangarh\n",
      "Processing Record 5 of Set 11 | monrovia\n",
      "Processing Record 6 of Set 11 | saldanha\n",
      "Processing Record 7 of Set 11 | matamoros\n",
      "Processing Record 8 of Set 11 | campbell river\n",
      "Processing Record 9 of Set 11 | port arthur\n",
      "Processing Record 10 of Set 11 | kyabe\n",
      "Processing Record 11 of Set 11 | mullaitivu\n",
      "City not found. Skipping ...\n",
      "-----------------------\n",
      "Data Retrieval Complete\n",
      "-----------------------\n",
      "Processing Record 12 of Set 11 | moses lake\n",
      "Processing Record 13 of Set 11 | amurzet\n",
      "Processing Record 14 of Set 11 | nuuk\n",
      "Processing Record 15 of Set 11 | beloha\n",
      "Processing Record 16 of Set 11 | lasa\n",
      "Processing Record 17 of Set 11 | rio real\n",
      "Processing Record 18 of Set 11 | kodinsk\n",
      "Processing Record 19 of Set 11 | shimoda\n",
      "Processing Record 20 of Set 11 | darhan\n",
      "Processing Record 21 of Set 11 | tamiahua\n",
      "Processing Record 22 of Set 11 | tucuma\n",
      "Processing Record 23 of Set 11 | gushikawa\n",
      "Processing Record 24 of Set 11 | gizo\n",
      "Processing Record 25 of Set 11 | polunochnoye\n",
      "Processing Record 26 of Set 11 | kungurtug\n",
      "Processing Record 27 of Set 11 | marrakesh\n",
      "Processing Record 28 of Set 11 | chanika\n",
      "Processing Record 29 of Set 11 | porbandar\n",
      "Processing Record 30 of Set 11 | tambacounda\n",
      "Processing Record 31 of Set 11 | babanusah\n",
      "City not found. Skipping ...\n",
      "-----------------------\n",
      "Data Retrieval Complete\n",
      "-----------------------\n",
      "Processing Record 32 of Set 11 | yanchukan\n",
      "City not found. Skipping ...\n",
      "-----------------------\n",
      "Data Retrieval Complete\n",
      "-----------------------\n",
      "Processing Record 33 of Set 11 | karaul\n",
      "City not found. Skipping ...\n",
      "-----------------------\n",
      "Data Retrieval Complete\n",
      "-----------------------\n",
      "Processing Record 34 of Set 11 | nizwa\n",
      "Processing Record 35 of Set 11 | farafangana\n",
      "Processing Record 36 of Set 11 | cockburn town\n",
      "Processing Record 37 of Set 11 | fonte boa\n",
      "Processing Record 38 of Set 11 | kralendijk\n",
      "Processing Record 39 of Set 11 | matay\n",
      "Processing Record 40 of Set 11 | santa maria do suacui\n",
      "Processing Record 41 of Set 11 | kholmogory\n",
      "Processing Record 42 of Set 11 | damietta\n",
      "Processing Record 43 of Set 11 | nemuro\n",
      "Processing Record 44 of Set 11 | alyangula\n",
      "Processing Record 45 of Set 11 | luderitz\n",
      "Processing Record 46 of Set 11 | hovd\n",
      "Processing Record 47 of Set 11 | bandar-e lengeh\n",
      "Processing Record 48 of Set 11 | chimbote\n",
      "Processing Record 49 of Set 11 | si sa ket\n",
      "Processing Record 0 of Set 12 | yatou\n",
      "Processing Record 1 of Set 12 | nicoya\n",
      "Processing Record 2 of Set 12 | talnakh\n",
      "Processing Record 3 of Set 12 | longlac\n",
      "City not found. Skipping ...\n",
      "-----------------------\n",
      "Data Retrieval Complete\n",
      "-----------------------\n",
      "Processing Record 4 of Set 12 | sedelnikovo\n",
      "City not found. Skipping ...\n",
      "-----------------------\n",
      "Data Retrieval Complete\n",
      "-----------------------\n",
      "Processing Record 5 of Set 12 | tabiauea\n",
      "City not found. Skipping ...\n",
      "-----------------------\n",
      "Data Retrieval Complete\n",
      "-----------------------\n",
      "Processing Record 6 of Set 12 | rangapara\n",
      "Processing Record 7 of Set 12 | menongue\n",
      "Processing Record 8 of Set 12 | japura\n",
      "Processing Record 9 of Set 12 | ruteng\n",
      "Processing Record 10 of Set 12 | merauke\n",
      "Processing Record 11 of Set 12 | san pedro\n",
      "Processing Record 12 of Set 12 | ayan\n",
      "Processing Record 13 of Set 12 | san patricio\n",
      "Processing Record 14 of Set 12 | kitoy\n",
      "Processing Record 15 of Set 12 | kriel\n",
      "Processing Record 16 of Set 12 | poum\n",
      "Processing Record 17 of Set 12 | dumas\n",
      "Processing Record 18 of Set 12 | bay saint louis\n",
      "Processing Record 19 of Set 12 | zverinogolovskoye\n",
      "Processing Record 20 of Set 12 | itarema\n",
      "Processing Record 21 of Set 12 | atar\n",
      "Processing Record 22 of Set 12 | tunceli\n",
      "Processing Record 23 of Set 12 | cairns\n",
      "Processing Record 24 of Set 12 | urusha\n",
      "Processing Record 25 of Set 12 | somerset\n",
      "Processing Record 26 of Set 12 | sao gabriel da cachoeira\n",
      "Processing Record 27 of Set 12 | porto nacional\n",
      "Processing Record 28 of Set 12 | buala\n",
      "Processing Record 29 of Set 12 | saint anthony\n",
      "Processing Record 30 of Set 12 | muncar\n",
      "Processing Record 31 of Set 12 | vaitape\n",
      "Processing Record 32 of Set 12 | meulaboh\n",
      "Processing Record 33 of Set 12 | manggar\n",
      "Processing Record 34 of Set 12 | les escoumins\n",
      "Processing Record 35 of Set 12 | kaduqli\n",
      "Processing Record 36 of Set 12 | pimentel\n",
      "Processing Record 37 of Set 12 | faro\n",
      "Processing Record 38 of Set 12 | tuy hoa\n",
      "Processing Record 39 of Set 12 | mhasla\n",
      "Processing Record 40 of Set 12 | chumikan\n",
      "Processing Record 41 of Set 12 | yeppoon\n",
      "Processing Record 42 of Set 12 | praia da vitoria\n",
      "Processing Record 43 of Set 12 | umba\n",
      "Processing Record 44 of Set 12 | kadykchan\n",
      "City not found. Skipping ...\n",
      "-----------------------\n",
      "Data Retrieval Complete\n",
      "-----------------------\n",
      "Processing Record 45 of Set 12 | noumea\n",
      "Processing Record 46 of Set 12 | havoysund\n"
     ]
    }
   ],
   "source": [
    "# base url for openweathermap call\n",
    "url = f\"http://api.openweathermap.org/data/2.5/weather?units=Imperial&APPID={weather_api_key}\"\n",
    "\n",
    "# Create an empty list to hold weather data\n",
    "cities_data = []\n",
    "\n",
    "# Print to logger\n",
    "print(\"Beginning Data Retrieval\")\n",
    "print (\"-\" * 15)\n",
    "\n",
    "# Create counters\n",
    "record_count = 1\n",
    "set_count = 1\n",
    "\n",
    "# Loop through all the cities in list\n",
    "for index, city in enumerate(cities):\n",
    "    \n",
    "    # Group cities in sets of 50 for loggin purpose\n",
    "    if (index % 50 == 0 and index >= 50):\n",
    "        set_count += 1\n",
    "        record_count = 0\n",
    "    # Create endpoint URL with each city\n",
    "    city_url = url + \"&q=\" + city\n",
    "    \n",
    "    # Log the URL and set number\n",
    "    print(f\"Processing Record {record_count} of Set {set_count} | {city}\")\n",
    "    \n",
    "    record_count += 1\n",
    "    \n",
    "    # Run an API request for each of the cities\n",
    "    try:\n",
    "        \n",
    "        # Parse the JSON and retrieve data\n",
    "        city_weather = requests.get(city_url).json()\n",
    "        \n",
    "        # Extract out max temp humidity and cloudiness\n",
    "        city_lat = city_weather[\"coord\"][\"lat\"]\n",
    "        city_lng = city_weather[\"coord\"][\"lon\"]\n",
    "        city_max_temp = city_weather[\"main\"][\"temp_max\"]\n",
    "        city_humidity = city_weather[\"main\"][\"humidity\"]\n",
    "        city_clouds = city_weather[\"clouds\"][\"all\"]\n",
    "        city_wind = city_weather[\"wind\"][\"speed\"]\n",
    "        city_country = city_weather[\"sys\"][\"country\"]\n",
    "        city_date = city_weather[\"dt\"]\n",
    "        \n",
    "        # Append the city info into the city data list\n",
    "        cities_data.append({\n",
    "            \"City\" :city,\n",
    "            \"Lat\" :city_lat,\n",
    "            \"Lng\" :city_lng,\n",
    "            \"Max Temp\" :city_max_temp,\n",
    "            \"Humidity\" :city_humidity,\n",
    "            \"Cloudiness\" :city_clouds,\n",
    "            \"Wind Speed\" :city_wind,\n",
    "            \"Country\" :city_country,\n",
    "            \"Date\" :city_date  \n",
    "        })\n",
    "    except:\n",
    "        print(\"City not found. Skipping ...\")\n",
    "        pass\n",
    "    # Indicate that data loading is complete\n",
    "        print(\"-----------------------\")\n",
    "        print(\"Data Retrieval Complete\")\n",
    "        print(\"-----------------------\")"
   ]
  },
  {
   "cell_type": "markdown",
   "metadata": {},
   "source": [
    "### Convert Raw Data to DataFrame\n",
    "* Export the city data into a .csv.\n",
    "* Display the DataFrame"
   ]
  },
  {
   "cell_type": "code",
   "execution_count": 4,
   "metadata": {},
   "outputs": [
    {
     "data": {
      "text/plain": [
       "City          540\n",
       "Lat           540\n",
       "Lng           540\n",
       "Max Temp      540\n",
       "Humidity      540\n",
       "Cloudiness    540\n",
       "Wind Speed    540\n",
       "Country       540\n",
       "Date          540\n",
       "dtype: int64"
      ]
     },
     "execution_count": 4,
     "metadata": {},
     "output_type": "execute_result"
    }
   ],
   "source": [
    "# Convert array of JSON into Pandas\n",
    "cities_data_df = pd.DataFrame(cities_data)\n",
    "\n",
    "\n",
    "# Extract relevant fields from the data frame\n",
    "lats = cities_data_df[\"Lat\"]\n",
    "max_temps = cities_data_df[\"Max Temp\"]\n",
    "humidity = cities_data_df[\"Humidity\"]\n",
    "cloudiness = cities_data_df[\"Cloudiness\"]\n",
    "wind_speed = cities_data_df[\"Wind Speed\"]\n",
    "\n",
    "cities_data_df.to_csv(output_data_file, index_label=\"City_ID\")\n",
    "\n",
    "cities_data_df.count()"
   ]
  },
  {
   "cell_type": "code",
   "execution_count": 5,
   "metadata": {},
   "outputs": [
    {
     "data": {
      "text/html": [
       "<div>\n",
       "<style scoped>\n",
       "    .dataframe tbody tr th:only-of-type {\n",
       "        vertical-align: middle;\n",
       "    }\n",
       "\n",
       "    .dataframe tbody tr th {\n",
       "        vertical-align: top;\n",
       "    }\n",
       "\n",
       "    .dataframe thead th {\n",
       "        text-align: right;\n",
       "    }\n",
       "</style>\n",
       "<table border=\"1\" class=\"dataframe\">\n",
       "  <thead>\n",
       "    <tr style=\"text-align: right;\">\n",
       "      <th></th>\n",
       "      <th>City</th>\n",
       "      <th>Lat</th>\n",
       "      <th>Lng</th>\n",
       "      <th>Max Temp</th>\n",
       "      <th>Humidity</th>\n",
       "      <th>Cloudiness</th>\n",
       "      <th>Wind Speed</th>\n",
       "      <th>Country</th>\n",
       "      <th>Date</th>\n",
       "    </tr>\n",
       "  </thead>\n",
       "  <tbody>\n",
       "    <tr>\n",
       "      <th>0</th>\n",
       "      <td>ushuaia</td>\n",
       "      <td>-54.80</td>\n",
       "      <td>-68.30</td>\n",
       "      <td>39.20</td>\n",
       "      <td>86</td>\n",
       "      <td>75</td>\n",
       "      <td>5.82</td>\n",
       "      <td>AR</td>\n",
       "      <td>1602816825</td>\n",
       "    </tr>\n",
       "    <tr>\n",
       "      <th>1</th>\n",
       "      <td>bluff</td>\n",
       "      <td>-46.60</td>\n",
       "      <td>168.33</td>\n",
       "      <td>55.00</td>\n",
       "      <td>60</td>\n",
       "      <td>100</td>\n",
       "      <td>10.00</td>\n",
       "      <td>NZ</td>\n",
       "      <td>1602816826</td>\n",
       "    </tr>\n",
       "    <tr>\n",
       "      <th>2</th>\n",
       "      <td>punta arenas</td>\n",
       "      <td>-53.15</td>\n",
       "      <td>-70.92</td>\n",
       "      <td>44.60</td>\n",
       "      <td>70</td>\n",
       "      <td>41</td>\n",
       "      <td>17.22</td>\n",
       "      <td>CL</td>\n",
       "      <td>1602816729</td>\n",
       "    </tr>\n",
       "    <tr>\n",
       "      <th>3</th>\n",
       "      <td>baykit</td>\n",
       "      <td>61.67</td>\n",
       "      <td>96.37</td>\n",
       "      <td>28.92</td>\n",
       "      <td>91</td>\n",
       "      <td>99</td>\n",
       "      <td>12.21</td>\n",
       "      <td>RU</td>\n",
       "      <td>1602816826</td>\n",
       "    </tr>\n",
       "    <tr>\n",
       "      <th>4</th>\n",
       "      <td>jiangyou</td>\n",
       "      <td>31.77</td>\n",
       "      <td>104.72</td>\n",
       "      <td>65.35</td>\n",
       "      <td>58</td>\n",
       "      <td>51</td>\n",
       "      <td>3.56</td>\n",
       "      <td>CN</td>\n",
       "      <td>1602816826</td>\n",
       "    </tr>\n",
       "  </tbody>\n",
       "</table>\n",
       "</div>"
      ],
      "text/plain": [
       "           City    Lat     Lng  Max Temp  Humidity  Cloudiness  Wind Speed  \\\n",
       "0       ushuaia -54.80  -68.30     39.20        86          75        5.82   \n",
       "1         bluff -46.60  168.33     55.00        60         100       10.00   \n",
       "2  punta arenas -53.15  -70.92     44.60        70          41       17.22   \n",
       "3        baykit  61.67   96.37     28.92        91          99       12.21   \n",
       "4      jiangyou  31.77  104.72     65.35        58          51        3.56   \n",
       "\n",
       "  Country        Date  \n",
       "0      AR  1602816825  \n",
       "1      NZ  1602816826  \n",
       "2      CL  1602816729  \n",
       "3      RU  1602816826  \n",
       "4      CN  1602816826  "
      ]
     },
     "execution_count": 5,
     "metadata": {},
     "output_type": "execute_result"
    }
   ],
   "source": [
    "# Display the city Data Frame\n",
    "cities_data_df.head()"
   ]
  },
  {
   "cell_type": "markdown",
   "metadata": {},
   "source": [
    "## Inspect the data and remove the cities where the humidity > 100%.\n",
    "----\n",
    "Skip this step if there are no cities that have humidity > 100%. "
   ]
  },
  {
   "cell_type": "code",
   "execution_count": 6,
   "metadata": {},
   "outputs": [
    {
     "data": {
      "text/html": [
       "<div>\n",
       "<style scoped>\n",
       "    .dataframe tbody tr th:only-of-type {\n",
       "        vertical-align: middle;\n",
       "    }\n",
       "\n",
       "    .dataframe tbody tr th {\n",
       "        vertical-align: top;\n",
       "    }\n",
       "\n",
       "    .dataframe thead th {\n",
       "        text-align: right;\n",
       "    }\n",
       "</style>\n",
       "<table border=\"1\" class=\"dataframe\">\n",
       "  <thead>\n",
       "    <tr style=\"text-align: right;\">\n",
       "      <th></th>\n",
       "      <th>City</th>\n",
       "      <th>Lat</th>\n",
       "      <th>Lng</th>\n",
       "      <th>Max Temp</th>\n",
       "      <th>Humidity</th>\n",
       "      <th>Cloudiness</th>\n",
       "      <th>Wind Speed</th>\n",
       "      <th>Country</th>\n",
       "      <th>Date</th>\n",
       "    </tr>\n",
       "  </thead>\n",
       "  <tbody>\n",
       "  </tbody>\n",
       "</table>\n",
       "</div>"
      ],
      "text/plain": [
       "Empty DataFrame\n",
       "Columns: [City, Lat, Lng, Max Temp, Humidity, Cloudiness, Wind Speed, Country, Date]\n",
       "Index: []"
      ]
     },
     "execution_count": 6,
     "metadata": {},
     "output_type": "execute_result"
    }
   ],
   "source": [
    "cities_data_df[cities_data_df[\"Humidity\"] > 100]"
   ]
  },
  {
   "cell_type": "code",
   "execution_count": 7,
   "metadata": {},
   "outputs": [
    {
     "data": {
      "text/html": [
       "<div>\n",
       "<style scoped>\n",
       "    .dataframe tbody tr th:only-of-type {\n",
       "        vertical-align: middle;\n",
       "    }\n",
       "\n",
       "    .dataframe tbody tr th {\n",
       "        vertical-align: top;\n",
       "    }\n",
       "\n",
       "    .dataframe thead th {\n",
       "        text-align: right;\n",
       "    }\n",
       "</style>\n",
       "<table border=\"1\" class=\"dataframe\">\n",
       "  <thead>\n",
       "    <tr style=\"text-align: right;\">\n",
       "      <th></th>\n",
       "      <th>Lat</th>\n",
       "      <th>Lng</th>\n",
       "      <th>Max Temp</th>\n",
       "      <th>Humidity</th>\n",
       "      <th>Cloudiness</th>\n",
       "      <th>Wind Speed</th>\n",
       "      <th>Date</th>\n",
       "    </tr>\n",
       "  </thead>\n",
       "  <tbody>\n",
       "    <tr>\n",
       "      <th>count</th>\n",
       "      <td>540.000000</td>\n",
       "      <td>540.000000</td>\n",
       "      <td>540.000000</td>\n",
       "      <td>540.000000</td>\n",
       "      <td>540.000000</td>\n",
       "      <td>540.000000</td>\n",
       "      <td>5.400000e+02</td>\n",
       "    </tr>\n",
       "    <tr>\n",
       "      <th>mean</th>\n",
       "      <td>20.012778</td>\n",
       "      <td>19.377111</td>\n",
       "      <td>61.566741</td>\n",
       "      <td>71.018519</td>\n",
       "      <td>51.255556</td>\n",
       "      <td>7.595981</td>\n",
       "      <td>1.602817e+09</td>\n",
       "    </tr>\n",
       "    <tr>\n",
       "      <th>std</th>\n",
       "      <td>33.044567</td>\n",
       "      <td>92.461288</td>\n",
       "      <td>19.259262</td>\n",
       "      <td>21.371952</td>\n",
       "      <td>39.158986</td>\n",
       "      <td>5.105032</td>\n",
       "      <td>6.695083e+01</td>\n",
       "    </tr>\n",
       "    <tr>\n",
       "      <th>min</th>\n",
       "      <td>-54.800000</td>\n",
       "      <td>-175.200000</td>\n",
       "      <td>3.580000</td>\n",
       "      <td>10.000000</td>\n",
       "      <td>0.000000</td>\n",
       "      <td>0.040000</td>\n",
       "      <td>1.602817e+09</td>\n",
       "    </tr>\n",
       "    <tr>\n",
       "      <th>25%</th>\n",
       "      <td>-6.315000</td>\n",
       "      <td>-66.430000</td>\n",
       "      <td>46.400000</td>\n",
       "      <td>60.000000</td>\n",
       "      <td>6.500000</td>\n",
       "      <td>3.430000</td>\n",
       "      <td>1.602817e+09</td>\n",
       "    </tr>\n",
       "    <tr>\n",
       "      <th>50%</th>\n",
       "      <td>23.505000</td>\n",
       "      <td>25.555000</td>\n",
       "      <td>64.970000</td>\n",
       "      <td>77.000000</td>\n",
       "      <td>56.500000</td>\n",
       "      <td>6.835000</td>\n",
       "      <td>1.602817e+09</td>\n",
       "    </tr>\n",
       "    <tr>\n",
       "      <th>75%</th>\n",
       "      <td>47.302500</td>\n",
       "      <td>103.675000</td>\n",
       "      <td>78.580000</td>\n",
       "      <td>87.250000</td>\n",
       "      <td>90.000000</td>\n",
       "      <td>10.317500</td>\n",
       "      <td>1.602817e+09</td>\n",
       "    </tr>\n",
       "    <tr>\n",
       "      <th>max</th>\n",
       "      <td>78.220000</td>\n",
       "      <td>179.320000</td>\n",
       "      <td>102.200000</td>\n",
       "      <td>100.000000</td>\n",
       "      <td>100.000000</td>\n",
       "      <td>29.080000</td>\n",
       "      <td>1.602817e+09</td>\n",
       "    </tr>\n",
       "  </tbody>\n",
       "</table>\n",
       "</div>"
      ],
      "text/plain": [
       "              Lat         Lng    Max Temp    Humidity  Cloudiness  Wind Speed  \\\n",
       "count  540.000000  540.000000  540.000000  540.000000  540.000000  540.000000   \n",
       "mean    20.012778   19.377111   61.566741   71.018519   51.255556    7.595981   \n",
       "std     33.044567   92.461288   19.259262   21.371952   39.158986    5.105032   \n",
       "min    -54.800000 -175.200000    3.580000   10.000000    0.000000    0.040000   \n",
       "25%     -6.315000  -66.430000   46.400000   60.000000    6.500000    3.430000   \n",
       "50%     23.505000   25.555000   64.970000   77.000000   56.500000    6.835000   \n",
       "75%     47.302500  103.675000   78.580000   87.250000   90.000000   10.317500   \n",
       "max     78.220000  179.320000  102.200000  100.000000  100.000000   29.080000   \n",
       "\n",
       "               Date  \n",
       "count  5.400000e+02  \n",
       "mean   1.602817e+09  \n",
       "std    6.695083e+01  \n",
       "min    1.602817e+09  \n",
       "25%    1.602817e+09  \n",
       "50%    1.602817e+09  \n",
       "75%    1.602817e+09  \n",
       "max    1.602817e+09  "
      ]
     },
     "execution_count": 7,
     "metadata": {},
     "output_type": "execute_result"
    }
   ],
   "source": [
    "#  Get the indices of cities that have humidity over 100%.\n",
    "cities_data_df.describe()"
   ]
  },
  {
   "cell_type": "code",
   "execution_count": null,
   "metadata": {},
   "outputs": [],
   "source": [
    "# Make a new DataFrame equal to the city data to drop all humidity outliers by index.\n",
    "# Passing \"inplace=False\" will make a copy of the city_data DataFrame, which we call \"clean_city_data\".\n",
    "\n",
    "# No cities with >100% humidity skipping"
   ]
  },
  {
   "cell_type": "markdown",
   "metadata": {},
   "source": [
    "## Plotting the Data\n",
    "* Use proper labeling of the plots using plot titles (including date of analysis) and axes labels.\n",
    "* Save the plotted figures as .pngs."
   ]
  },
  {
   "cell_type": "markdown",
   "metadata": {},
   "source": [
    "## Latitude vs. Temperature Plot"
   ]
  },
  {
   "cell_type": "code",
   "execution_count": 8,
   "metadata": {
    "scrolled": true
   },
   "outputs": [
    {
     "data": {
      "text/plain": [
       "Text(0, 0.5, 'Max Temperature (F)')"
      ]
     },
     "execution_count": 8,
     "metadata": {},
     "output_type": "execute_result"
    },
    {
     "data": {
      "image/png": "[encoded data removed]",
      "text/plain": [
       "<Figure size 432x288 with 1 Axes>"
      ]
     },
     "metadata": {
      "needs_background": "light"
     },
     "output_type": "display_data"
    }
   ],
   "source": [
    "x = cities_data_df['Lat']\n",
    "y_1 = cities_data_df['Max Temp']\n",
    "\n",
    "plt.scatter(x, y_1, edgecolors = 'black')\n",
    "plt.grid(axis = 'both')\n",
    "plt.title('City Latitude vs. Max Temperature(10/15/20)')\n",
    "plt.xlabel('Latitude')\n",
    "plt.ylabel('Max Temperature (F)')\n",
    "\n",
    "#This plot is to demonstrate if the city latitude has a corelation to max temperatures.\n",
    "#We can see that temperatures rise near 0 latitude - near the equator where temps are warmest."
   ]
  },
  {
   "cell_type": "markdown",
   "metadata": {},
   "source": [
    "## Latitude vs. Humidity Plot"
   ]
  },
  {
   "cell_type": "code",
   "execution_count": 9,
   "metadata": {},
   "outputs": [
    {
     "data": {
      "text/plain": [
       "Text(0, 0.5, 'Humidity (%)')"
      ]
     },
     "execution_count": 9,
     "metadata": {},
     "output_type": "execute_result"
    },
    {
     "data": {
      "image/png": "[encoded data removed]",
      "text/plain": [
       "<Figure size 432x288 with 1 Axes>"
      ]
     },
     "metadata": {
      "needs_background": "light"
     },
     "output_type": "display_data"
    }
   ],
   "source": [
    "y_2 = cities_data_df['Humidity']\n",
    "\n",
    "plt.scatter(x, y_2, edgecolors = 'black')\n",
    "plt.grid(axis = 'both')\n",
    "plt.title('City Latitude vs. Humidity (10/15/20)')\n",
    "plt.xlabel('Latitude')\n",
    "plt.ylabel('Humidity (%)')\n"
   ]
  },
  {
   "cell_type": "markdown",
   "metadata": {},
   "source": [
    "## Latitude vs. Cloudiness Plot"
   ]
  },
  {
   "cell_type": "code",
   "execution_count": 10,
   "metadata": {},
   "outputs": [
    {
     "data": {
      "text/plain": [
       "Text(0, 0.5, 'Cloudiness (%)')"
      ]
     },
     "execution_count": 10,
     "metadata": {},
     "output_type": "execute_result"
    },
    {
     "data": {
      "image/png": "[encoded data removed]",
      "text/plain": [
       "<Figure size 432x288 with 1 Axes>"
      ]
     },
     "metadata": {
      "needs_background": "light"
     },
     "output_type": "display_data"
    }
   ],
   "source": [
    "y_3 = cities_data_df['Cloudiness']\n",
    "\n",
    "plt.scatter(x, y_3, edgecolors = 'black')\n",
    "plt.grid(axis = 'both')\n",
    "plt.title('City Latitude vs. Cloudiness (10/15/20)')\n",
    "plt.xlabel('Latitude')\n",
    "plt.ylabel('Cloudiness (%)')"
   ]
  },
  {
   "cell_type": "markdown",
   "metadata": {},
   "source": [
    "## Latitude vs. Wind Speed Plot"
   ]
  },
  {
   "cell_type": "code",
   "execution_count": 12,
   "metadata": {},
   "outputs": [
    {
     "data": {
      "text/plain": [
       "Text(0, 0.5, 'Wind Speed (%)')"
      ]
     },
     "execution_count": 12,
     "metadata": {},
     "output_type": "execute_result"
    },
    {
     "data": {
      "image/png": "[encoded data removed]",
      "text/plain": [
       "<Figure size 432x288 with 1 Axes>"
      ]
     },
     "metadata": {
      "needs_background": "light"
     },
     "output_type": "display_data"
    }
   ],
   "source": [
    "y_4 = cities_data_df['Wind Speed']\n",
    "\n",
    "plt.scatter(x, y_4, edgecolors = 'black')\n",
    "plt.grid(axis = 'both')\n",
    "plt.title('City Latitude vs. Wind Speed (10/15/20)')\n",
    "plt.xlabel('Latitude')\n",
    "plt.ylabel('Wind Speed (%)')"
   ]
  },
  {
   "cell_type": "markdown",
   "metadata": {},
   "source": [
    "## Linear Regression"
   ]
  },
  {
   "cell_type": "code",
   "execution_count": 13,
   "metadata": {},
   "outputs": [],
   "source": [
    "# OPTIONAL: Create a function to create Linear Regression plots\n",
    "def plot_linear_regression(x_values,y_values,title,text_coordinates):\n",
    "    \n",
    "    # Run regression on Southern Hemisphere\n",
    "    (slope, intercept, rvalue, pvalue, stderr) = linregress (x_values,y_values)\n",
    "    regress_values = x_values * slope + intercept\n",
    "    line_eq = \"y = \" + str(round(slope,2)) + \" x + \" + str(round(intercept,2))\n",
    "    \n",
    "    # Plot\n",
    "    plt.scatter(x_values,y_values)\n",
    "    plt.plot(x_values, regress_values, \"r-\")\n",
    "    plt.annotate(line_eq,text_coordinates, fontsize=15, color=\"red\")\n",
    "    plt.xlabel(\"Latitude\")\n",
    "    plt.ylabel(\"Title\")\n",
    "    print(f\"The r-value is: {rvalue}\")\n",
    "    plt.show()"
   ]
  },
  {
   "cell_type": "code",
   "execution_count": 14,
   "metadata": {},
   "outputs": [],
   "source": [
    "north = cities_data_df.loc[cities_data_df['Lat'] >= 0]\n",
    "south = cities_data_df.loc[cities_data_df['Lat'] < 0]"
   ]
  },
  {
   "cell_type": "markdown",
   "metadata": {},
   "source": [
    "####  Northern Hemisphere - Max Temp vs. Latitude Linear Regression"
   ]
  },
  {
   "cell_type": "code",
   "execution_count": 15,
   "metadata": {},
   "outputs": [
    {
     "name": "stdout",
     "output_type": "stream",
     "text": [
      "The r-value is: -0.8773238671780578\n"
     ]
    },
    {
     "data": {
      "image/png": "[encoded data removed]",
      "text/plain": [
       "<Figure size 432x288 with 1 Axes>"
      ]
     },
     "metadata": {
      "needs_background": "light"
     },
     "output_type": "display_data"
    }
   ],
   "source": [
    "x_values = north [\"Lat\"]\n",
    "y_values = north [\"Max Temp\"]\n",
    "plot_linear_regression(x_values,y_values, 'Max Temp', (6,20))"
   ]
  },
  {
   "cell_type": "markdown",
   "metadata": {},
   "source": [
    "####  Southern Hemisphere - Max Temp vs. Latitude Linear Regression"
   ]
  },
  {
   "cell_type": "code",
   "execution_count": 16,
   "metadata": {},
   "outputs": [
    {
     "name": "stdout",
     "output_type": "stream",
     "text": [
      "The r-value is: 0.6538671189291393\n"
     ]
    },
    {
     "data": {
      "image/png": "[encoded data removed]",
      "text/plain": [
       "<Figure size 432x288 with 1 Axes>"
      ]
     },
     "metadata": {
      "needs_background": "light"
     },
     "output_type": "display_data"
    }
   ],
   "source": [
    "x_values = south [\"Lat\"]\n",
    "y_values = south [\"Max Temp\"]\n",
    "plot_linear_regression(x_values,y_values, 'Max Temp', (-30,40))"
   ]
  },
  {
   "cell_type": "markdown",
   "metadata": {},
   "source": [
    "####  Northern Hemisphere - Humidity (%) vs. Latitude Linear Regression"
   ]
  },
  {
   "cell_type": "code",
   "execution_count": 17,
   "metadata": {},
   "outputs": [
    {
     "name": "stdout",
     "output_type": "stream",
     "text": [
      "The r-value is: 0.22799226784990576\n"
     ]
    },
    {
     "data": {
      "image/png": "[encoded data removed]",
      "text/plain": [
       "<Figure size 432x288 with 1 Axes>"
      ]
     },
     "metadata": {
      "needs_background": "light"
     },
     "output_type": "display_data"
    }
   ],
   "source": [
    "x_values = north [\"Lat\"]\n",
    "y_values = north [\"Humidity\"]\n",
    "plot_linear_regression(x_values,y_values, 'Humidity', (40,20))"
   ]
  },
  {
   "cell_type": "markdown",
   "metadata": {},
   "source": [
    "####  Southern Hemisphere - Humidity (%) vs. Latitude Linear Regression"
   ]
  },
  {
   "cell_type": "code",
   "execution_count": 18,
   "metadata": {},
   "outputs": [
    {
     "name": "stdout",
     "output_type": "stream",
     "text": [
      "The r-value is: 0.18167379533234343\n"
     ]
    },
    {
     "data": {
      "image/png": "[encoded data removed]",
      "text/plain": [
       "<Figure size 432x288 with 1 Axes>"
      ]
     },
     "metadata": {
      "needs_background": "light"
     },
     "output_type": "display_data"
    }
   ],
   "source": [
    "x_values = south [\"Lat\"]\n",
    "y_values = south [\"Humidity\"]\n",
    "plot_linear_regression(x_values,y_values, 'Humidity', (-55,10))"
   ]
  },
  {
   "cell_type": "markdown",
   "metadata": {},
   "source": [
    "####  Northern Hemisphere - Cloudiness (%) vs. Latitude Linear Regression"
   ]
  },
  {
   "cell_type": "code",
   "execution_count": 19,
   "metadata": {},
   "outputs": [
    {
     "name": "stdout",
     "output_type": "stream",
     "text": [
      "The r-value is: 0.28242584733819853\n"
     ]
    },
    {
     "data": {
      "image/png": "[encoded data removed]",
      "text/plain": [
       "<Figure size 432x288 with 1 Axes>"
      ]
     },
     "metadata": {
      "needs_background": "light"
     },
     "output_type": "display_data"
    }
   ],
   "source": [
    "x_values = north [\"Lat\"]\n",
    "y_values = north [\"Cloudiness\"]\n",
    "plot_linear_regression(x_values,y_values, 'Cloudiness', (20,25))"
   ]
  },
  {
   "cell_type": "markdown",
   "metadata": {},
   "source": [
    "####  Southern Hemisphere - Cloudiness (%) vs. Latitude Linear Regression"
   ]
  },
  {
   "cell_type": "code",
   "execution_count": 20,
   "metadata": {},
   "outputs": [
    {
     "name": "stdout",
     "output_type": "stream",
     "text": [
      "The r-value is: 0.009573770550918561\n"
     ]
    },
    {
     "data": {
      "image/png": "[encoded data removed]",
      "text/plain": [
       "<Figure size 432x288 with 1 Axes>"
      ]
     },
     "metadata": {
      "needs_background": "light"
     },
     "output_type": "display_data"
    }
   ],
   "source": [
    "x_values = south [\"Lat\"]\n",
    "y_values = south [\"Cloudiness\"]\n",
    "plot_linear_regression(x_values,y_values, 'Cloudiness', (-30,30))"
   ]
  },
  {
   "cell_type": "markdown",
   "metadata": {},
   "source": [
    "####  Northern Hemisphere - Wind Speed (mph) vs. Latitude Linear Regression"
   ]
  },
  {
   "cell_type": "code",
   "execution_count": 21,
   "metadata": {},
   "outputs": [
    {
     "name": "stdout",
     "output_type": "stream",
     "text": [
      "The r-value is: 0.26377365464606045\n"
     ]
    },
    {
     "data": {
      "image/png": "[encoded data removed]",
      "text/plain": [
       "<Figure size 432x288 with 1 Axes>"
      ]
     },
     "metadata": {
      "needs_background": "light"
     },
     "output_type": "display_data"
    }
   ],
   "source": [
    "x_values = north [\"Lat\"]\n",
    "y_values = north [\"Wind Speed\"]\n",
    "plot_linear_regression(x_values,y_values, 'Wind Speed', (45,23))"
   ]
  },
  {
   "cell_type": "markdown",
   "metadata": {},
   "source": [
    "####  Southern Hemisphere - Wind Speed (mph) vs. Latitude Linear Regression"
   ]
  },
  {
   "cell_type": "code",
   "execution_count": 22,
   "metadata": {},
   "outputs": [
    {
     "name": "stdout",
     "output_type": "stream",
     "text": [
      "The r-value is: -0.14858131664174698\n"
     ]
    },
    {
     "data": {
      "image/png": "[encoded data removed]",
      "text/plain": [
       "<Figure size 432x288 with 1 Axes>"
      ]
     },
     "metadata": {
      "needs_background": "light"
     },
     "output_type": "display_data"
    }
   ],
   "source": [
    "x_values = south [\"Lat\"]\n",
    "y_values = south [\"Wind Speed\"]\n",
    "plot_linear_regression(x_values,y_values, 'Wind Speed', (-30,22))"
   ]
  }
 ],
 "metadata": {
  "anaconda-cloud": {},
  "kernel_info": {
   "name": "python3"
  },
  "kernelspec": {
   "display_name": "Python [conda env:PythonData]",
   "language": "python",
   "name": "conda-env-PythonData-py"
  },
  "language_info": {
   "codemirror_mode": {
    "name": "ipython",
    "version": 3
   },
   "file_extension": ".py",
   "mimetype": "text/x-python",
   "name": "python",
   "nbconvert_exporter": "python",
   "pygments_lexer": "ipython3",
   "version": "3.6.10"
  },
  "latex_envs": {
   "LaTeX_envs_menu_present": true,
   "autoclose": false,
   "autocomplete": true,
   "bibliofile": "biblio.bib",
   "cite_by": "apalike",
   "current_citInitial": 1,
   "eqLabelWithNumbers": true,
   "eqNumInitial": 1,
   "hotkeys": {
    "equation": "Ctrl-E",
    "itemize": "Ctrl-I"
   },
   "labels_anchors": false,
   "latex_user_defs": false,
   "report_style_numbering": false,
   "user_envs_cfg": false
  },
  "nteract": {
   "version": "0.12.3"
  }
 },
 "nbformat": 4,
 "nbformat_minor": 2
}
